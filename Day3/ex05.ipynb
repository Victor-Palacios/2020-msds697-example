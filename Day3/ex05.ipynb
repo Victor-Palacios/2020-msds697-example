{
 "cells": [
  {
   "cell_type": "code",
   "execution_count": 1,
   "metadata": {},
   "outputs": [],
   "source": [
    "from pyspark import SparkContext\n",
    "from pyspark.sql import SparkSession\n",
    "from pyspark.sql.types import *\n",
    "sc = SparkContext.getOrCreate()\n",
    "ss = SparkSession.builder.getOrCreate()"
   ]
  },
  {
   "cell_type": "markdown",
   "metadata": {},
   "source": [
    "## Create dataframe\n",
    "https://spark.apache.org/docs/latest/api/python/pyspark.ml.html?highlight=kmeans#pyspark.ml.clustering.KMeans"
   ]
  },
  {
   "cell_type": "code",
   "execution_count": 2,
   "metadata": {},
   "outputs": [],
   "source": [
    "#Load the data and create an RDD (16 pixels and label)\n",
    "pen_raw = sc.textFile(\"../Data/penbased.dat\", 4).map(lambda x:  x.split(\", \")).map(lambda row: [float(x) for x in row])"
   ]
  },
  {
   "cell_type": "code",
   "execution_count": 3,
   "metadata": {},
   "outputs": [],
   "source": [
    "#Create a DataFrame\n",
    "from pyspark.sql.types import *\n",
    "from pyspark.sql import Row\n",
    "penschema = StructType([\n",
    "    StructField(\"pix1\",DoubleType(),True),\n",
    "    StructField(\"pix2\",DoubleType(),True),\n",
    "    StructField(\"pix3\",DoubleType(),True),\n",
    "    StructField(\"pix4\",DoubleType(),True),\n",
    "    StructField(\"pix5\",DoubleType(),True),\n",
    "    StructField(\"pix6\",DoubleType(),True),\n",
    "    StructField(\"pix7\",DoubleType(),True),\n",
    "    StructField(\"pix8\",DoubleType(),True),\n",
    "    StructField(\"pix9\",DoubleType(),True),\n",
    "    StructField(\"pix10\",DoubleType(),True),\n",
    "    StructField(\"pix11\",DoubleType(),True),\n",
    "    StructField(\"pix12\",DoubleType(),True),\n",
    "    StructField(\"pix13\",DoubleType(),True),\n",
    "    StructField(\"pix14\",DoubleType(),True),\n",
    "    StructField(\"pix15\",DoubleType(),True),\n",
    "    StructField(\"pix16\",DoubleType(),True),\n",
    "    StructField(\"label\",DoubleType(),True)\n",
    "])\n",
    "\n",
    "dfpen = ss.createDataFrame(pen_raw.map(lambda x : Row(x[0],x[1],x[2],x[3],x[4],x[5],x[6],x[7],x[8],x[9],x[10],x[11],x[12],x[13],x[14],x[15],x[16])), penschema)"
   ]
  },
  {
   "cell_type": "code",
   "execution_count": 4,
   "metadata": {},
   "outputs": [
    {
     "name": "stdout",
     "output_type": "stream",
     "text": [
      "+-----+-----+----+-----+-----+-----+-----+-----+-----+-----+-----+-----+-----+-----+-----+-----+-----+\n",
      "| pix1| pix2|pix3| pix4| pix5| pix6| pix7| pix8| pix9|pix10|pix11|pix12|pix13|pix14|pix15|pix16|label|\n",
      "+-----+-----+----+-----+-----+-----+-----+-----+-----+-----+-----+-----+-----+-----+-----+-----+-----+\n",
      "| 47.0|100.0|27.0| 81.0| 57.0| 37.0| 26.0|  0.0|  0.0| 23.0| 56.0| 53.0|100.0| 90.0| 40.0| 98.0|  8.0|\n",
      "|  0.0| 89.0|27.0|100.0| 42.0| 75.0| 29.0| 45.0| 15.0| 15.0| 37.0|  0.0| 69.0|  2.0|100.0|  6.0|  2.0|\n",
      "|  0.0| 57.0|31.0| 68.0| 72.0| 90.0|100.0|100.0| 76.0| 75.0| 50.0| 51.0| 28.0| 25.0| 16.0|  0.0|  1.0|\n",
      "|  0.0|100.0| 7.0| 92.0|  5.0| 68.0| 19.0| 45.0| 86.0| 34.0|100.0| 45.0| 74.0| 23.0| 67.0|  0.0|  4.0|\n",
      "|  0.0| 67.0|49.0| 83.0|100.0|100.0| 81.0| 80.0| 60.0| 60.0| 40.0| 40.0| 33.0| 20.0| 47.0|  0.0|  1.0|\n",
      "|100.0|100.0|88.0| 99.0| 49.0| 74.0| 17.0| 47.0|  0.0| 16.0| 37.0|  0.0| 73.0| 16.0| 20.0| 20.0|  6.0|\n",
      "|  0.0|100.0| 3.0| 72.0| 26.0| 35.0| 85.0| 35.0|100.0| 71.0| 73.0| 97.0| 65.0| 49.0| 66.0|  0.0|  4.0|\n",
      "|  0.0| 39.0| 2.0| 62.0| 11.0|  5.0| 63.0|  0.0|100.0| 43.0| 89.0| 99.0| 36.0|100.0|  0.0| 57.0|  0.0|\n",
      "| 13.0| 89.0|12.0| 50.0| 72.0| 38.0| 56.0|  0.0|  4.0| 17.0|  0.0| 61.0| 32.0| 94.0|100.0|100.0|  5.0|\n",
      "| 74.0| 87.0|31.0|100.0|  0.0| 69.0| 62.0| 64.0|100.0| 79.0|100.0| 38.0| 84.0|  0.0| 18.0|  1.0|  9.0|\n",
      "| 48.0| 96.0|62.0| 65.0| 88.0| 27.0| 21.0|  0.0| 21.0| 33.0| 79.0| 67.0|100.0|100.0|  0.0| 85.0|  8.0|\n",
      "|100.0|100.0|72.0| 99.0| 36.0| 78.0| 34.0| 54.0| 79.0| 47.0| 64.0| 13.0| 19.0|  0.0|  0.0|  2.0|  5.0|\n",
      "| 91.0| 74.0|54.0|100.0|  0.0| 87.0| 23.0| 59.0| 81.0| 67.0|100.0| 39.0| 79.0|  4.0| 21.0|  0.0|  9.0|\n",
      "|  0.0| 85.0|38.0|100.0| 81.0| 88.0| 87.0| 50.0| 84.0| 12.0| 58.0|  0.0| 53.0| 22.0|100.0| 24.0|  7.0|\n",
      "| 35.0| 76.0|57.0|100.0|100.0| 92.0| 68.0| 66.0| 81.0| 38.0| 82.0|  9.0| 32.0|  0.0|  0.0| 17.0|  3.0|\n",
      "| 50.0| 84.0|66.0|100.0| 75.0| 75.0| 51.0| 51.0|100.0| 42.0| 97.0| 13.0| 49.0|  0.0|  0.0|  7.0|  3.0|\n",
      "| 99.0| 80.0|63.0|100.0| 25.0| 76.0| 79.0| 68.0|100.0| 62.0| 97.0| 23.0| 54.0|  0.0|  0.0| 16.0|  9.0|\n",
      "| 24.0| 66.0|43.0|100.0| 59.0| 65.0| 34.0| 28.0|  0.0|  1.0| 16.0| 11.0| 58.0|  0.0|100.0|  1.0|  2.0|\n",
      "|  0.0| 73.0|19.0| 99.0| 72.0|100.0| 70.0| 73.0| 32.0| 48.0|  5.0| 18.0| 46.0|  0.0|100.0|  0.0|  2.0|\n",
      "| 12.0| 77.0|20.0| 62.0| 78.0| 40.0| 50.0|  0.0|  1.0| 17.0|  0.0| 64.0| 23.0| 98.0|100.0|100.0|  5.0|\n",
      "+-----+-----+----+-----+-----+-----+-----+-----+-----+-----+-----+-----+-----+-----+-----+-----+-----+\n",
      "only showing top 20 rows\n",
      "\n"
     ]
    }
   ],
   "source": [
    "dfpen.show()"
   ]
  },
  {
   "cell_type": "markdown",
   "metadata": {},
   "source": [
    "## Create dataframe with a feature vector (Exclude the label)"
   ]
  },
  {
   "cell_type": "code",
   "execution_count": 5,
   "metadata": {},
   "outputs": [],
   "source": [
    "# Merging the data with Vector Assembler.\n",
    "from pyspark.ml.feature import VectorAssembler\n",
    "va = VectorAssembler(outputCol=\"features\", inputCols=dfpen.columns[0:-1]) #except the last col.\n",
    "penlpoints = va.transform(dfpen)"
   ]
  },
  {
   "cell_type": "markdown",
   "metadata": {},
   "source": [
    "## Apply KMeans algorithm to the data frame"
   ]
  },
  {
   "cell_type": "code",
   "execution_count": 6,
   "metadata": {},
   "outputs": [],
   "source": [
    "from pyspark.ml.clustering import KMeans\n",
    "kmeans =  KMeans(k = 10, maxIter = 200, tol = 0.1) # k = 10 as there are 10 different handwritten numbers.\n",
    "model = kmeans.fit(penlpoints)"
   ]
  },
  {
   "cell_type": "markdown",
   "metadata": {},
   "source": [
    "## Evaluation"
   ]
  },
  {
   "cell_type": "code",
   "execution_count": 7,
   "metadata": {},
   "outputs": [
    {
     "name": "stdout",
     "output_type": "stream",
     "text": [
      "Within Set Sum of Squared Errors = 45280957.45483561\n"
     ]
    }
   ],
   "source": [
    "# Evaluate clustering by computing Within Set Sum of Squared Errors\n",
    "wssse = model.computeCost(penlpoints) \n",
    "print(\"Within Set Sum of Squared Errors = \" + str(wssse))"
   ]
  },
  {
   "cell_type": "code",
   "execution_count": 8,
   "metadata": {},
   "outputs": [
    {
     "name": "stdout",
     "output_type": "stream",
     "text": [
      "Average distance from the center = 67.58917632982867\n"
     ]
    }
   ],
   "source": [
    "# Average distance from the center (max = 100)\n",
    "import math\n",
    "print(\"Average distance from the center = \" + str(math.sqrt(wssse/pen_raw.count())))"
   ]
  },
  {
   "cell_type": "code",
   "execution_count": 9,
   "metadata": {},
   "outputs": [
    {
     "name": "stdout",
     "output_type": "stream",
     "text": [
      "Cluster Centers: \n",
      "[ 4.03370787 62.0247191  30.71123596 73.0741573  72.35280899 89.53595506\n",
      " 89.69101124 93.71685393 77.94494382 73.7988764  70.23483146 50.19550562\n",
      " 56.28314607 24.08539326 50.03820225  1.04269663]\n",
      "[48.06390328 96.48618307 23.25734024 79.91450777  3.66407599 54.61830743\n",
      " 43.97668394 46.32210708 86.64075993 55.19948187 87.21675302 59.74438687\n",
      " 71.87737478 30.44214162 60.22711572  0.10535406]\n",
      "[88.25108601 98.0807993  53.39443962 87.79148566 22.04344049 61.84361425\n",
      "  7.56733275 30.90443093 34.33709818  9.51520417 79.12945265 13.89574283\n",
      " 60.08774978 28.24847958 12.392702   21.27106864]\n",
      "[26.65292096 89.98969072 18.11168385 60.59621993 61.08419244 37.43298969\n",
      " 43.56872852  2.84536082  6.46735395 18.25945017  8.54295533 63.95876289\n",
      " 40.33161512 93.51890034 97.84364261 98.104811  ]\n",
      "[45.66170501 90.57239513 27.49526387 70.35994587 35.14749662 30.68200271\n",
      " 30.8849797   2.11096076 43.87550744 19.1826793  82.17320704 54.35723951\n",
      " 88.74289581 90.20162382 30.40595399 90.73612991]\n",
      "[23.49773071 80.51739788  7.21331316 45.51437216 23.44931921  7.40544629\n",
      " 67.88199697  8.06505295 96.46596067 43.74583964 86.09833585 84.24357035\n",
      " 43.57791225 94.93040847 10.20726172 67.28593041]\n",
      "[81.14352941 82.34352941 38.43529412 97.14588235 23.28941176 68.24705882\n",
      " 61.94588235 32.49176471 49.95764706  1.37411765 10.61647059 19.60941176\n",
      " 49.99764706 54.67764706 87.08705882 83.49411765]\n",
      "[ 4.54855923 88.89967983 51.51654216 98.53255069 84.13127001 80.68623266\n",
      " 69.24439701 43.46104589 49.62646745  8.66808965 26.75346852 12.63180363\n",
      " 34.52508004 32.34044824 89.17182497 36.90501601]\n",
      "[19.64829193 74.99378882 43.38121118 96.98059006 63.94565217 81.66149068\n",
      " 47.76319876 47.76940994 22.0318323  18.61413043 10.5326087   7.83540373\n",
      " 52.45108696  5.88276398 98.04736025  5.83074534]\n",
      "[46.7371456  85.13935608 63.04036521 94.43344546 71.75540605 84.82652571\n",
      " 58.15233061 69.11052379 75.72993753 51.5069678  86.61316675 25.09610764\n",
      " 50.18981259  5.95771264  2.78567996  6.8779433 ]\n"
     ]
    }
   ],
   "source": [
    "# Shows the result.\n",
    "centers = model.clusterCenters()\n",
    "print(\"Cluster Centers: \")\n",
    "for center in centers:\n",
    "    print(center)"
   ]
  },
  {
   "cell_type": "code",
   "execution_count": 10,
   "metadata": {},
   "outputs": [
    {
     "name": "stdout",
     "output_type": "stream",
     "text": [
      "+-----+----------+-----+\n",
      "|label|prediction|count|\n",
      "+-----+----------+-----+\n",
      "|  4.0|         8|    4|\n",
      "|  0.0|         4|  352|\n",
      "|  4.0|         9|    3|\n",
      "|  1.0|         0|  584|\n",
      "|  0.0|         5|  636|\n",
      "|  5.0|         3|  555|\n",
      "|  1.0|         8|  263|\n",
      "|  0.0|         6|   22|\n",
      "|  1.0|         2|   27|\n",
      "|  7.0|         7|  812|\n",
      "|  7.0|         4|    2|\n",
      "|  6.0|         8|    1|\n",
      "|  8.0|         4|  385|\n",
      "|  6.0|         2|  963|\n",
      "|  7.0|         6|    1|\n",
      "|  8.0|         6|  398|\n",
      "|  5.0|         6|    3|\n",
      "|  1.0|         7|   41|\n",
      "|  2.0|         9|    1|\n",
      "|  7.0|         2|    3|\n",
      "|  3.0|         8|    1|\n",
      "|  5.0|         9|  304|\n",
      "|  2.0|         7|   50|\n",
      "|  9.0|         9|  656|\n",
      "|  2.0|         0|   14|\n",
      "|  9.0|         6|    1|\n",
      "|  9.0|         8|   13|\n",
      "|  6.0|         1|    3|\n",
      "|  0.0|         0|    2|\n",
      "|  7.0|         1|    1|\n",
      "|  4.0|         0|   14|\n",
      "|  4.0|         1|  961|\n",
      "|  3.0|         9|  899|\n",
      "|  0.0|         1|    9|\n",
      "|  7.0|         0|  142|\n",
      "|  9.0|         2|    3|\n",
      "|  8.0|         9|   61|\n",
      "|  9.0|         0|   91|\n",
      "|  8.0|         3|   22|\n",
      "|  3.0|         1|    2|\n",
      "|  8.0|         0|    7|\n",
      "|  6.0|         9|    1|\n",
      "|  5.0|         2|   88|\n",
      "|  8.0|         7|   34|\n",
      "|  9.0|         5|   10|\n",
      "|  1.0|         9|  106|\n",
      "|  7.0|         9|   45|\n",
      "|  1.0|         1|    1|\n",
      "|  4.0|         2|   45|\n",
      "|  7.0|         8|   19|\n",
      "|  8.0|         8|   26|\n",
      "|  8.0|         5|   15|\n",
      "|  8.0|         2|   11|\n",
      "|  2.0|         8|  957|\n",
      "|  0.0|         8|    4|\n",
      "|  9.0|         1|  181|\n",
      "|  0.0|         2|   11|\n",
      "|  7.0|         3|    4|\n",
      "|  6.0|         3|    1|\n",
      "|  0.0|         9|    1|\n",
      "|  3.0|         0|   40|\n",
      "+-----+----------+-----+\n",
      "\n"
     ]
    }
   ],
   "source": [
    "# prediction is a group, not an actual label.\n",
    "model.transform(penlpoints).select('label', 'prediction').groupBy('label', 'prediction').count().show(100)"
   ]
  },
  {
   "cell_type": "code",
   "execution_count": null,
   "metadata": {},
   "outputs": [],
   "source": []
  }
 ],
 "metadata": {
  "anaconda-cloud": {},
  "kernelspec": {
   "display_name": "Python 3",
   "language": "python",
   "name": "python3"
  },
  "language_info": {
   "codemirror_mode": {
    "name": "ipython",
    "version": 3
   },
   "file_extension": ".py",
   "mimetype": "text/x-python",
   "name": "python",
   "nbconvert_exporter": "python",
   "pygments_lexer": "ipython3",
   "version": "3.7.4"
  },
  "varInspector": {
   "cols": {
    "lenName": 16,
    "lenType": 16,
    "lenVar": 40
   },
   "kernels_config": {
    "python": {
     "delete_cmd_postfix": "",
     "delete_cmd_prefix": "del ",
     "library": "var_list.py",
     "varRefreshCmd": "print(var_dic_list())"
    },
    "r": {
     "delete_cmd_postfix": ") ",
     "delete_cmd_prefix": "rm(",
     "library": "var_list.r",
     "varRefreshCmd": "cat(var_dic_list()) "
    }
   },
   "types_to_exclude": [
    "module",
    "function",
    "builtin_function_or_method",
    "instance",
    "_Feature"
   ],
   "window_display": false
  }
 },
 "nbformat": 4,
 "nbformat_minor": 1
}

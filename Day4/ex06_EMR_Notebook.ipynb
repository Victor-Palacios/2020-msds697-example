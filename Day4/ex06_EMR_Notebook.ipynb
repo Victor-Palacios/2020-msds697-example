{
 "cells": [
  {
   "cell_type": "code",
   "execution_count": 1,
   "metadata": {},
   "outputs": [
    {
     "data": {
      "application/vnd.jupyter.widget-view+json": {
       "model_id": "b4e65c0dc1594043b0f5e10d1d8fcf79",
       "version_major": 2,
       "version_minor": 0
      },
      "text/plain": [
       "VBox()"
      ]
     },
     "metadata": {},
     "output_type": "display_data"
    },
    {
     "name": "stdout",
     "output_type": "stream",
     "text": [
      "Starting Spark application\n"
     ]
    },
    {
     "data": {
      "text/html": [
       "<table>\n",
       "<tr><th>ID</th><th>YARN Application ID</th><th>Kind</th><th>State</th><th>Spark UI</th><th>Driver log</th><th>Current session?</th></tr><tr><td>2</td><td>application_1578289722508_0003</td><td>pyspark</td><td>idle</td><td><a target=\"_blank\" href=\"http://ip-172-31-33-207.us-west-2.compute.internal:20888/proxy/application_1578289722508_0003/\">Link</a></td><td><a target=\"_blank\" href=\"http://ip-172-31-46-29.us-west-2.compute.internal:8042/node/containerlogs/container_1578289722508_0003_01_000001/livy\">Link</a></td><td>✔</td></tr></table>"
      ],
      "text/plain": [
       "<IPython.core.display.HTML object>"
      ]
     },
     "metadata": {},
     "output_type": "display_data"
    },
    {
     "data": {
      "application/vnd.jupyter.widget-view+json": {
       "model_id": "",
       "version_major": 2,
       "version_minor": 0
      },
      "text/plain": [
       "FloatProgress(value=0.0, bar_style='info', description='Progress:', layout=Layout(height='25px', width='50%'),…"
      ]
     },
     "metadata": {},
     "output_type": "display_data"
    },
    {
     "name": "stdout",
     "output_type": "stream",
     "text": [
      "SparkSession available as 'spark'.\n"
     ]
    },
    {
     "data": {
      "application/vnd.jupyter.widget-view+json": {
       "model_id": "",
       "version_major": 2,
       "version_minor": 0
      },
      "text/plain": [
       "FloatProgress(value=0.0, bar_style='info', description='Progress:', layout=Layout(height='25px', width='50%'),…"
      ]
     },
     "metadata": {},
     "output_type": "display_data"
    },
    {
     "name": "stdout",
     "output_type": "stream",
     "text": [
      "<SparkContext master=yarn appName=livy-session-2>"
     ]
    }
   ],
   "source": [
    "sc"
   ]
  },
  {
   "cell_type": "code",
   "execution_count": 2,
   "metadata": {},
   "outputs": [
    {
     "data": {
      "application/vnd.jupyter.widget-view+json": {
       "model_id": "a94c05f914264889850d7b1535a570ae",
       "version_major": 2,
       "version_minor": 0
      },
      "text/plain": [
       "VBox()"
      ]
     },
     "metadata": {},
     "output_type": "display_data"
    },
    {
     "data": {
      "application/vnd.jupyter.widget-view+json": {
       "model_id": "",
       "version_major": 2,
       "version_minor": 0
      },
      "text/plain": [
       "FloatProgress(value=0.0, bar_style='info', description='Progress:', layout=Layout(height='25px', width='50%'),…"
      ]
     },
     "metadata": {},
     "output_type": "display_data"
    },
    {
     "name": "stdout",
     "output_type": "stream",
     "text": [
      "'2.4.4'"
     ]
    }
   ],
   "source": [
    "sc.version"
   ]
  },
  {
   "cell_type": "markdown",
   "metadata": {},
   "source": [
    "## Install h2o"
   ]
  },
  {
   "cell_type": "code",
   "execution_count": 3,
   "metadata": {},
   "outputs": [
    {
     "data": {
      "application/vnd.jupyter.widget-view+json": {
       "model_id": "9ab38dca138940e4b67ca4c6a08b9608",
       "version_major": 2,
       "version_minor": 0
      },
      "text/plain": [
       "VBox()"
      ]
     },
     "metadata": {},
     "output_type": "display_data"
    },
    {
     "data": {
      "application/vnd.jupyter.widget-view+json": {
       "model_id": "",
       "version_major": 2,
       "version_minor": 0
      },
      "text/plain": [
       "FloatProgress(value=0.0, bar_style='info', description='Progress:', layout=Layout(height='25px', width='50%'),…"
      ]
     },
     "metadata": {},
     "output_type": "display_data"
    },
    {
     "name": "stdout",
     "output_type": "stream",
     "text": [
      "Package                    Version\n",
      "-------------------------- -------\n",
      "beautifulsoup4             4.8.1  \n",
      "boto                       2.49.0 \n",
      "jmespath                   0.9.4  \n",
      "lxml                       4.4.1  \n",
      "mysqlclient                1.4.4  \n",
      "nltk                       3.4.5  \n",
      "nose                       1.3.4  \n",
      "numpy                      1.14.5 \n",
      "pip                        19.3.1 \n",
      "py-dateutil                2.2    \n",
      "python36-sagemaker-pyspark 1.2.6  \n",
      "pytz                       2019.3 \n",
      "PyYAML                     3.11   \n",
      "setuptools                 44.0.0 \n",
      "six                        1.12.0 \n",
      "soupsieve                  1.9.4  \n",
      "wheel                      0.33.6 \n",
      "windmill                   1.6"
     ]
    }
   ],
   "source": [
    "sc.list_packages()"
   ]
  },
  {
   "cell_type": "code",
   "execution_count": 4,
   "metadata": {},
   "outputs": [
    {
     "data": {
      "application/vnd.jupyter.widget-view+json": {
       "model_id": "1f61e8457c364b9aa36733e5ac57f0b6",
       "version_major": 2,
       "version_minor": 0
      },
      "text/plain": [
       "VBox()"
      ]
     },
     "metadata": {},
     "output_type": "display_data"
    },
    {
     "data": {
      "application/vnd.jupyter.widget-view+json": {
       "model_id": "",
       "version_major": 2,
       "version_minor": 0
      },
      "text/plain": [
       "FloatProgress(value=0.0, bar_style='info', description='Progress:', layout=Layout(height='25px', width='50%'),…"
      ]
     },
     "metadata": {},
     "output_type": "display_data"
    },
    {
     "name": "stdout",
     "output_type": "stream",
     "text": [
      "Processing /var/lib/livy/.cache/pip/wheels/0d/2f/d2/7e0c36c53b57ca597430858ab3d72e1a612a10780016ff6765/h2o_pysparkling_2.4-3.28.0.1.post1-py2.py3-none-any.whl\n",
      "Requirement already satisfied: numpy>=1.9.2 in /usr/local/lib64/python3.6/site-packages (from h2o-pysparkling-2.4) (1.14.5)\n",
      "Processing /var/lib/livy/.cache/pip/wheels/9c/9b/f4/eb243fdb89676ec00588e8c54bb54360724c06e7fafe95278e/tabulate-0.8.6-cp36-none-any.whl\n",
      "Processing /var/lib/livy/.cache/pip/wheels/ab/09/4d/0d184230058e654eb1b04467dbc1292f00eaa186544604b471/pyspark-2.4.4-py2.py3-none-any.whl\n",
      "Collecting colorama>=0.3.8\n",
      "  Using cached https://files.pythonhosted.org/packages/c9/dc/45cdef1b4d119eb96316b3117e6d5708a08029992b2fee2c143c7a0a5cc5/colorama-0.4.3-py2.py3-none-any.whl\n",
      "Collecting requests\n",
      "  Using cached https://files.pythonhosted.org/packages/51/bd/23c926cd341ea6b7dd0b2a00aba99ae0f828be89d72b2190f27c11d4b7fb/requests-2.22.0-py2.py3-none-any.whl\n",
      "Processing /var/lib/livy/.cache/pip/wheels/8b/99/a0/81daf51dcd359a9377b110a8a886b3895921802d2fc1b2397e/future-0.18.2-cp36-none-any.whl\n",
      "Collecting py4j==0.10.7\n",
      "  Using cached https://files.pythonhosted.org/packages/e3/53/c737818eb9a7dc32a7cd4f1396e787bd94200c3997c72c1dbe028587bd76/py4j-0.10.7-py2.py3-none-any.whl\n",
      "Collecting idna<2.9,>=2.5\n",
      "  Using cached https://files.pythonhosted.org/packages/14/2c/cd551d81dbe15200be1cf41cd03869a46fe7226e7450af7a6545bfc474c9/idna-2.8-py2.py3-none-any.whl\n",
      "Collecting certifi>=2017.4.17\n",
      "  Using cached https://files.pythonhosted.org/packages/b9/63/df50cac98ea0d5b006c55a399c3bf1db9da7b5a24de7890bc9cfd5dd9e99/certifi-2019.11.28-py2.py3-none-any.whl\n",
      "Collecting urllib3!=1.25.0,!=1.25.1,<1.26,>=1.21.1\n",
      "  Using cached https://files.pythonhosted.org/packages/b4/40/a9837291310ee1ccc242ceb6ebfd9eb21539649f193a7c8c86ba15b98539/urllib3-1.25.7-py2.py3-none-any.whl\n",
      "Collecting chardet<3.1.0,>=3.0.2\n",
      "  Using cached https://files.pythonhosted.org/packages/bc/a9/01ffebfb562e4274b6487b4bb1ddec7ca55ec7510b22e4c51f14098443b8/chardet-3.0.4-py2.py3-none-any.whl\n",
      "Installing collected packages: tabulate, py4j, pyspark, colorama, idna, certifi, urllib3, chardet, requests, future, h2o-pysparkling-2.4\n",
      "Successfully installed certifi-2019.11.28 chardet-3.0.4 colorama-0.4.3 future-0.18.2 h2o-pysparkling-2.4-3.28.0.1.post1 idna-2.8 py4j-0.10.7 pyspark-2.4.4 requests-2.22.0 tabulate-0.8.6 urllib3-1.25.7\n",
      "\n",
      "ERROR: python36-sagemaker-pyspark 1.2.6 has requirement pyspark==2.3.2, but you'll have pyspark 2.4.4 which is incompatible."
     ]
    }
   ],
   "source": [
    "sc.install_pypi_package(\"h2o-pysparkling-2.4\")"
   ]
  },
  {
   "cell_type": "code",
   "execution_count": 5,
   "metadata": {},
   "outputs": [
    {
     "data": {
      "application/vnd.jupyter.widget-view+json": {
       "model_id": "8548d1c72e894b1e82dccbd98733baa8",
       "version_major": 2,
       "version_minor": 0
      },
      "text/plain": [
       "VBox()"
      ]
     },
     "metadata": {},
     "output_type": "display_data"
    },
    {
     "data": {
      "application/vnd.jupyter.widget-view+json": {
       "model_id": "",
       "version_major": 2,
       "version_minor": 0
      },
      "text/plain": [
       "FloatProgress(value=0.0, bar_style='info', description='Progress:', layout=Layout(height='25px', width='50%'),…"
      ]
     },
     "metadata": {},
     "output_type": "display_data"
    },
    {
     "name": "stdout",
     "output_type": "stream",
     "text": [
      "Processing /var/lib/livy/.cache/pip/wheels/ff/82/f4/3fe9c895b93c53b25ae44dc44aa54dad571c711f48bc485fe9/h2o-3.28.0.1-py2.py3-none-any.whl\n",
      "Requirement already satisfied: tabulate in /mnt/tmp/1578294124268-0/lib/python3.6/site-packages (from h2o) (0.8.6)\n",
      "Requirement already satisfied: colorama>=0.3.8 in /mnt/tmp/1578294124268-0/lib/python3.6/site-packages (from h2o) (0.4.3)\n",
      "Requirement already satisfied: requests in /mnt/tmp/1578294124268-0/lib/python3.6/site-packages (from h2o) (2.22.0)\n",
      "Requirement already satisfied: future in /mnt/tmp/1578294124268-0/lib/python3.6/site-packages (from h2o) (0.18.2)\n",
      "Requirement already satisfied: idna<2.9,>=2.5 in /mnt/tmp/1578294124268-0/lib/python3.6/site-packages (from requests->h2o) (2.8)\n",
      "Requirement already satisfied: certifi>=2017.4.17 in /mnt/tmp/1578294124268-0/lib/python3.6/site-packages (from requests->h2o) (2019.11.28)\n",
      "Requirement already satisfied: urllib3!=1.25.0,!=1.25.1,<1.26,>=1.21.1 in /mnt/tmp/1578294124268-0/lib/python3.6/site-packages (from requests->h2o) (1.25.7)\n",
      "Requirement already satisfied: chardet<3.1.0,>=3.0.2 in /mnt/tmp/1578294124268-0/lib/python3.6/site-packages (from requests->h2o) (3.0.4)\n",
      "Installing collected packages: h2o\n",
      "Successfully installed h2o-3.28.0.1"
     ]
    }
   ],
   "source": [
    "sc.install_pypi_package(\"h2o\")"
   ]
  },
  {
   "cell_type": "code",
   "execution_count": 6,
   "metadata": {},
   "outputs": [
    {
     "data": {
      "application/vnd.jupyter.widget-view+json": {
       "model_id": "29f15fbc3116434594c734ffb849a8df",
       "version_major": 2,
       "version_minor": 0
      },
      "text/plain": [
       "VBox()"
      ]
     },
     "metadata": {},
     "output_type": "display_data"
    },
    {
     "data": {
      "application/vnd.jupyter.widget-view+json": {
       "model_id": "",
       "version_major": 2,
       "version_minor": 0
      },
      "text/plain": [
       "FloatProgress(value=0.0, bar_style='info', description='Progress:', layout=Layout(height='25px', width='50%'),…"
      ]
     },
     "metadata": {},
     "output_type": "display_data"
    }
   ],
   "source": [
    "#sc.uninstall_package(\"h2o-pysparkling-2.4\")"
   ]
  },
  {
   "cell_type": "code",
   "execution_count": 7,
   "metadata": {},
   "outputs": [
    {
     "data": {
      "application/vnd.jupyter.widget-view+json": {
       "model_id": "a043e786028545dcbf95043137dc7a26",
       "version_major": 2,
       "version_minor": 0
      },
      "text/plain": [
       "VBox()"
      ]
     },
     "metadata": {},
     "output_type": "display_data"
    },
    {
     "data": {
      "application/vnd.jupyter.widget-view+json": {
       "model_id": "",
       "version_major": 2,
       "version_minor": 0
      },
      "text/plain": [
       "FloatProgress(value=0.0, bar_style='info', description='Progress:', layout=Layout(height='25px', width='50%'),…"
      ]
     },
     "metadata": {},
     "output_type": "display_data"
    },
    {
     "name": "stdout",
     "output_type": "stream",
     "text": [
      "Package                    Version       \n",
      "-------------------------- --------------\n",
      "beautifulsoup4             4.8.1         \n",
      "boto                       2.49.0        \n",
      "certifi                    2019.11.28    \n",
      "chardet                    3.0.4         \n",
      "colorama                   0.4.3         \n",
      "future                     0.18.2        \n",
      "h2o                        3.28.0.1      \n",
      "h2o-pysparkling-2.4        3.28.0.1.post1\n",
      "idna                       2.8           \n",
      "jmespath                   0.9.4         \n",
      "lxml                       4.4.1         \n",
      "mysqlclient                1.4.4         \n",
      "nltk                       3.4.5         \n",
      "nose                       1.3.4         \n",
      "numpy                      1.14.5        \n",
      "pip                        19.3.1        \n",
      "py-dateutil                2.2           \n",
      "py4j                       0.10.7        \n",
      "pyspark                    2.4.4         \n",
      "python36-sagemaker-pyspark 1.2.6         \n",
      "pytz                       2019.3        \n",
      "PyYAML                     3.11          \n",
      "requests                   2.22.0        \n",
      "setuptools                 44.0.0        \n",
      "six                        1.12.0        \n",
      "soupsieve                  1.9.4         \n",
      "tabulate                   0.8.6         \n",
      "urllib3                    1.25.7        \n",
      "wheel                      0.33.6        \n",
      "windmill                   1.6"
     ]
    }
   ],
   "source": [
    "sc.list_packages()"
   ]
  },
  {
   "cell_type": "markdown",
   "metadata": {},
   "source": [
    "## Impoort H2O and initialize"
   ]
  },
  {
   "cell_type": "code",
   "execution_count": null,
   "metadata": {},
   "outputs": [],
   "source": [
    "import h2o\n",
    "h2o.init()"
   ]
  },
  {
   "cell_type": "markdown",
   "metadata": {},
   "source": [
    "## Apply ML"
   ]
  },
  {
   "cell_type": "code",
   "execution_count": 9,
   "metadata": {},
   "outputs": [
    {
     "data": {
      "application/vnd.jupyter.widget-view+json": {
       "model_id": "0fcc6d94beeb4d318171018b308a8592",
       "version_major": 2,
       "version_minor": 0
      },
      "text/plain": [
       "VBox()"
      ]
     },
     "metadata": {},
     "output_type": "display_data"
    },
    {
     "data": {
      "application/vnd.jupyter.widget-view+json": {
       "model_id": "",
       "version_major": 2,
       "version_minor": 0
      },
      "text/plain": [
       "FloatProgress(value=0.0, bar_style='info', description='Progress:', layout=Layout(height='25px', width='50%'),…"
      ]
     },
     "metadata": {},
     "output_type": "display_data"
    },
    {
     "name": "stdout",
     "output_type": "stream",
     "text": [
      "Parse progress: [#########################################################] 100%"
     ]
    }
   ],
   "source": [
    "data_path = \"s3://usfca-msan694/penbased.dat\"\n",
    "penbased_df = h2o.import_file(data_path)"
   ]
  },
  {
   "cell_type": "code",
   "execution_count": 10,
   "metadata": {},
   "outputs": [
    {
     "data": {
      "application/vnd.jupyter.widget-view+json": {
       "model_id": "afa042b270bd466284ada2c96ab81346",
       "version_major": 2,
       "version_minor": 0
      },
      "text/plain": [
       "VBox()"
      ]
     },
     "metadata": {},
     "output_type": "display_data"
    },
    {
     "data": {
      "application/vnd.jupyter.widget-view+json": {
       "model_id": "",
       "version_major": 2,
       "version_minor": 0
      },
      "text/plain": [
       "FloatProgress(value=0.0, bar_style='info', description='Progress:', layout=Layout(height='25px', width='50%'),…"
      ]
     },
     "metadata": {},
     "output_type": "display_data"
    },
    {
     "name": "stdout",
     "output_type": "stream",
     "text": [
      "  pix1    pix2    pix3    pix4    pix5    pix6    pix7    pix8    pix9    pix10    pix11    pix12    pix13    pix14    pix15    pix16    label\n",
      "------  ------  ------  ------  ------  ------  ------  ------  ------  -------  -------  -------  -------  -------  -------  -------  -------\n",
      "    47     100      27      81      57      37      26       0       0       23       56       53      100       90       40       98        8\n",
      "     0      89      27     100      42      75      29      45      15       15       37        0       69        2      100        6        2\n",
      "     0      57      31      68      72      90     100     100      76       75       50       51       28       25       16        0        1\n",
      "     0     100       7      92       5      68      19      45      86       34      100       45       74       23       67        0        4\n",
      "     0      67      49      83     100     100      81      80      60       60       40       40       33       20       47        0        1\n",
      "   100     100      88      99      49      74      17      47       0       16       37        0       73       16       20       20        6\n",
      "     0     100       3      72      26      35      85      35     100       71       73       97       65       49       66        0        4\n",
      "     0      39       2      62      11       5      63       0     100       43       89       99       36      100        0       57        0\n",
      "    13      89      12      50      72      38      56       0       4       17        0       61       32       94      100      100        5\n",
      "    74      87      31     100       0      69      62      64     100       79      100       38       84        0       18        1        9\n",
      "\n",
      "[9912 rows x 17 columns]"
     ]
    }
   ],
   "source": [
    "penbased_df.set_names([\"pix1\",\"pix2\",\"pix3\",\"pix4\",\"pix5\",\"pix6\",\"pix7\",\"pix8\",\"pix9\",\"pix10\",\"pix11\",\"pix12\",\"pix13\",\"pix14\",\"pix15\",\"pix16\",\"label\"])"
   ]
  },
  {
   "cell_type": "code",
   "execution_count": 11,
   "metadata": {},
   "outputs": [
    {
     "data": {
      "application/vnd.jupyter.widget-view+json": {
       "model_id": "244ca972e1f348fc98426ebe65537057",
       "version_major": 2,
       "version_minor": 0
      },
      "text/plain": [
       "VBox()"
      ]
     },
     "metadata": {},
     "output_type": "display_data"
    },
    {
     "data": {
      "application/vnd.jupyter.widget-view+json": {
       "model_id": "",
       "version_major": 2,
       "version_minor": 0
      },
      "text/plain": [
       "FloatProgress(value=0.0, bar_style='info', description='Progress:', layout=Layout(height='25px', width='50%'),…"
      ]
     },
     "metadata": {},
     "output_type": "display_data"
    }
   ],
   "source": [
    "penbased_df[\"label\"] = penbased_df[\"label\"].asfactor()"
   ]
  },
  {
   "cell_type": "code",
   "execution_count": 12,
   "metadata": {},
   "outputs": [
    {
     "data": {
      "application/vnd.jupyter.widget-view+json": {
       "model_id": "81ae8204b7574ef0a4c2122553a1fe30",
       "version_major": 2,
       "version_minor": 0
      },
      "text/plain": [
       "VBox()"
      ]
     },
     "metadata": {},
     "output_type": "display_data"
    },
    {
     "data": {
      "application/vnd.jupyter.widget-view+json": {
       "model_id": "",
       "version_major": 2,
       "version_minor": 0
      },
      "text/plain": [
       "FloatProgress(value=0.0, bar_style='info', description='Progress:', layout=Layout(height='25px', width='50%'),…"
      ]
     },
     "metadata": {},
     "output_type": "display_data"
    },
    {
     "name": "stdout",
     "output_type": "stream",
     "text": [
      "         pix1               pix2                pix3               pix4               pix5               pix6                pix7                pix8               pix9               pix10               pix11              pix12               pix13               pix14               pix15              pix16               label\n",
      "-------  -----------------  ------------------  -----------------  -----------------  -----------------  ------------------  ------------------  -----------------  -----------------  ------------------  -----------------  ------------------  ------------------  ------------------  -----------------  ------------------  -------\n",
      "type     int                int                 int                int                int                int                 int                 int                int                int                 int                int                 int                 int                 int                int                 enum\n",
      "mins     0.0                0.0                 0.0                0.0                0.0                0.0                 0.0                 0.0                0.0                0.0                 0.0                0.0                 0.0                 0.0                 0.0                0.0\n",
      "mean     39.03631961259081  85.19118240516546   40.659604519774    83.83898305084747  49.58111380145278  65.55528652138821   51.07485875706216   44.49606537530268  56.78753026634383  33.71065375302662   60.59130347054076  34.848466505246165  55.079398708636     34.96307506053269   47.15002017756255  28.858757062146882\n",
      "maxs     100.0              100.0               100.0              100.0              100.0              100.0               100.0               100.0              100.0              100.0               100.0              100.0               100.0               100.0               100.0              100.0\n",
      "sigma    34.35220151400474  16.181378816896995  26.37111542102567  19.11264532384947  34.08795650342981  26.953660580428103  30.565323036637427  29.95348333691249  34.12882308702293  27.326041741458752  37.24990984565127  27.102540735632047  22.358104263901314  33.113174740358964  41.74731673104696  35.78103604704649\n",
      "zeros    2119               20                  858                13                 1410               357                 891                 1403               926                2030                1173               1110                169                 1576                2647               3646\n",
      "missing  0                  0                   0                  0                  0                  0                   0                   0                  0                  0                   0                  0                   0                   0                   0                  0                   0\n",
      "0        47.0               100.0               27.0               81.0               57.0               37.0                26.0                0.0                0.0                23.0                56.0               53.0                100.0               90.0                40.0               98.0                8\n",
      "1        0.0                89.0                27.0               100.0              42.0               75.0                29.0                45.0               15.0               15.0                37.0               0.0                 69.0                2.0                 100.0              6.0                 2\n",
      "2        0.0                57.0                31.0               68.0               72.0               90.0                100.0               100.0              76.0               75.0                50.0               51.0                28.0                25.0                16.0               0.0                 1\n",
      "3        0.0                100.0               7.0                92.0               5.0                68.0                19.0                45.0               86.0               34.0                100.0              45.0                74.0                23.0                67.0               0.0                 4\n",
      "4        0.0                67.0                49.0               83.0               100.0              100.0               81.0                80.0               60.0               60.0                40.0               40.0                33.0                20.0                47.0               0.0                 1\n",
      "5        100.0              100.0               88.0               99.0               49.0               74.0                17.0                47.0               0.0                16.0                37.0               0.0                 73.0                16.0                20.0               20.0                6\n",
      "6        0.0                100.0               3.0                72.0               26.0               35.0                85.0                35.0               100.0              71.0                73.0               97.0                65.0                49.0                66.0               0.0                 4\n",
      "7        0.0                39.0                2.0                62.0               11.0               5.0                 63.0                0.0                100.0              43.0                89.0               99.0                36.0                100.0               0.0                57.0                0\n",
      "8        13.0               89.0                12.0               50.0               72.0               38.0                56.0                0.0                4.0                17.0                0.0                61.0                32.0                94.0                100.0              100.0               5\n",
      "9        74.0               87.0                31.0               100.0              0.0                69.0                62.0                64.0               100.0              79.0                100.0              38.0                84.0                0.0                 18.0               1.0                 9"
     ]
    }
   ],
   "source": [
    "penbased_df.summary()"
   ]
  },
  {
   "cell_type": "code",
   "execution_count": 13,
   "metadata": {},
   "outputs": [
    {
     "data": {
      "application/vnd.jupyter.widget-view+json": {
       "model_id": "3e38e4be2923450c95605101c2294be5",
       "version_major": 2,
       "version_minor": 0
      },
      "text/plain": [
       "VBox()"
      ]
     },
     "metadata": {},
     "output_type": "display_data"
    },
    {
     "data": {
      "application/vnd.jupyter.widget-view+json": {
       "model_id": "",
       "version_major": 2,
       "version_minor": 0
      },
      "text/plain": [
       "FloatProgress(value=0.0, bar_style='info', description='Progress:', layout=Layout(height='25px', width='50%'),…"
      ]
     },
     "metadata": {},
     "output_type": "display_data"
    }
   ],
   "source": [
    "predictors = penbased_df.names[:]\n",
    "response = \"label\"\n",
    "predictors.remove(response)"
   ]
  },
  {
   "cell_type": "code",
   "execution_count": 14,
   "metadata": {},
   "outputs": [
    {
     "data": {
      "application/vnd.jupyter.widget-view+json": {
       "model_id": "33a4e1a748024ab188a7f14e38c9d09f",
       "version_major": 2,
       "version_minor": 0
      },
      "text/plain": [
       "VBox()"
      ]
     },
     "metadata": {},
     "output_type": "display_data"
    },
    {
     "data": {
      "application/vnd.jupyter.widget-view+json": {
       "model_id": "",
       "version_major": 2,
       "version_minor": 0
      },
      "text/plain": [
       "FloatProgress(value=0.0, bar_style='info', description='Progress:', layout=Layout(height='25px', width='50%'),…"
      ]
     },
     "metadata": {},
     "output_type": "display_data"
    },
    {
     "name": "stdout",
     "output_type": "stream",
     "text": [
      "['pix1', 'pix2', 'pix3', 'pix4', 'pix5', 'pix6', 'pix7', 'pix8', 'pix9', 'pix10', 'pix11', 'pix12', 'pix13', 'pix14', 'pix15', 'pix16']"
     ]
    }
   ],
   "source": [
    "predictors"
   ]
  },
  {
   "cell_type": "code",
   "execution_count": 15,
   "metadata": {},
   "outputs": [
    {
     "data": {
      "application/vnd.jupyter.widget-view+json": {
       "model_id": "a2525b6d74e6470f8207074abf3686ae",
       "version_major": 2,
       "version_minor": 0
      },
      "text/plain": [
       "VBox()"
      ]
     },
     "metadata": {},
     "output_type": "display_data"
    },
    {
     "data": {
      "application/vnd.jupyter.widget-view+json": {
       "model_id": "",
       "version_major": 2,
       "version_minor": 0
      },
      "text/plain": [
       "FloatProgress(value=0.0, bar_style='info', description='Progress:', layout=Layout(height='25px', width='50%'),…"
      ]
     },
     "metadata": {},
     "output_type": "display_data"
    }
   ],
   "source": [
    "from h2o.estimators.gbm import H2OGradientBoostingEstimator\n",
    "model_gbm = H2OGradientBoostingEstimator(ntrees=50,\n",
    "                                         max_depth=6,\n",
    "                                         learn_rate=0.1, \n",
    "                                         nfolds = 5)\n"
   ]
  },
  {
   "cell_type": "code",
   "execution_count": 16,
   "metadata": {},
   "outputs": [
    {
     "data": {
      "application/vnd.jupyter.widget-view+json": {
       "model_id": "7490ac4ed0ed4977b1529bb0adea6ce2",
       "version_major": 2,
       "version_minor": 0
      },
      "text/plain": [
       "VBox()"
      ]
     },
     "metadata": {},
     "output_type": "display_data"
    },
    {
     "data": {
      "application/vnd.jupyter.widget-view+json": {
       "model_id": "",
       "version_major": 2,
       "version_minor": 0
      },
      "text/plain": [
       "FloatProgress(value=0.0, bar_style='info', description='Progress:', layout=Layout(height='25px', width='50%'),…"
      ]
     },
     "metadata": {},
     "output_type": "display_data"
    },
    {
     "name": "stdout",
     "output_type": "stream",
     "text": [
      "gbm Model Build progress: [###############################################] 100%"
     ]
    }
   ],
   "source": [
    "model_gbm.train(x=predictors,\n",
    "                y=response,\n",
    "                training_frame=penbased_df)"
   ]
  },
  {
   "cell_type": "code",
   "execution_count": 17,
   "metadata": {},
   "outputs": [
    {
     "data": {
      "application/vnd.jupyter.widget-view+json": {
       "model_id": "402a92db352149acb6b0fb38ce51b2c5",
       "version_major": 2,
       "version_minor": 0
      },
      "text/plain": [
       "VBox()"
      ]
     },
     "metadata": {},
     "output_type": "display_data"
    },
    {
     "data": {
      "application/vnd.jupyter.widget-view+json": {
       "model_id": "",
       "version_major": 2,
       "version_minor": 0
      },
      "text/plain": [
       "FloatProgress(value=0.0, bar_style='info', description='Progress:', layout=Layout(height='25px', width='50%'),…"
      ]
     },
     "metadata": {},
     "output_type": "display_data"
    },
    {
     "name": "stdout",
     "output_type": "stream",
     "text": [
      "Model Details\n",
      "=============\n",
      "H2OGradientBoostingEstimator :  Gradient Boosting Machine\n",
      "Model Key:  GBM_model_python_1578294165765_1\n",
      "\n",
      "\n",
      "Model Summary: \n",
      "    number_of_trees    number_of_internal_trees    model_size_in_bytes    min_depth    max_depth    mean_depth    min_leaves    max_leaves    mean_leaves\n",
      "--  -----------------  --------------------------  ---------------------  -----------  -----------  ------------  ------------  ------------  -------------\n",
      "    50                 500                         331413                 6            6            6             21            63            48.118\n",
      "\n",
      "\n",
      "ModelMetricsMultinomial: gbm\n",
      "** Reported on train data. **\n",
      "\n",
      "MSE: 2.69134238808821e-05\n",
      "RMSE: 0.005187814942813795\n",
      "LogLoss: 0.0017640130420225268\n",
      "Mean Per-Class Error: 0.0\n",
      "\n",
      "Confusion Matrix: Row labels: Actual class; Column labels: Predicted class\n",
      "0     1     2     3    4     5    6    7     8    9    Error    Rate\n",
      "----  ----  ----  ---  ----  ---  ---  ----  ---  ---  -------  ---------\n",
      "1037  0     0     0    0     0    0    0     0    0    0        0 / 1,037\n",
      "0     1022  0     0    0     0    0    0     0    0    0        0 / 1,022\n",
      "0     0     1022  0    0     0    0    0     0    0    0        0 / 1,022\n",
      "0     0     0     942  0     0    0    0     0    0    0        0 / 942\n",
      "0     0     0     0    1027  0    0    0     0    0    0        0 / 1,027\n",
      "0     0     0     0    0     950  0    0     0    0    0        0 / 950\n",
      "0     0     0     0    0     0    969  0     0    0    0        0 / 969\n",
      "0     0     0     0    0     0    0    1029  0    0    0        0 / 1,029\n",
      "0     0     0     0    0     0    0    0     959  0    0        0 / 959\n",
      "0     0     0     0    0     0    0    0     0    955  0        0 / 955\n",
      "1037  1022  1022  942  1027  950  969  1029  959  955  0        0 / 9,912\n",
      "\n",
      "Top-10 Hit Ratios: \n",
      "k    hit_ratio\n",
      "---  -----------\n",
      "1    1\n",
      "2    1\n",
      "3    1\n",
      "4    1\n",
      "5    1\n",
      "6    1\n",
      "7    1\n",
      "8    1\n",
      "9    1\n",
      "10   1\n",
      "\n",
      "ModelMetricsMultinomial: gbm\n",
      "** Reported on cross-validation data. **\n",
      "\n",
      "MSE: 0.010318404967333798\n",
      "RMSE: 0.10157954994650152\n",
      "LogLoss: 0.04244189380201648\n",
      "Mean Per-Class Error: 0.011154732709771461\n",
      "\n",
      "Confusion Matrix: Row labels: Actual class; Column labels: Predicted class\n",
      "0     1     2     3    4     5    6    7     8    9    Error       Rate\n",
      "----  ----  ----  ---  ----  ---  ---  ----  ---  ---  ----------  -----------\n",
      "1026  0     1     0    3     0    1    0     4    2    0.0106075   11 / 1,037\n",
      "0     985   25    4    2     0    0    5     0    1    0.0362035   37 / 1,022\n",
      "0     6     1013  0    0     0    0    3     0    0    0.00880626  9 / 1,022\n",
      "0     2     1     935  0     0    0    3     0    1    0.007431    7 / 942\n",
      "0     0     0     0    1026  0    0    1     0    0    0.00097371  1 / 1,027\n",
      "0     0     0     5    0     941  0    0     2    2    0.00947368  9 / 950\n",
      "1     1     0     0    3     3    961  0     0    0    0.00825593  8 / 969\n",
      "0     2     3     0    0     0    0    1022  1    1    0.00680272  7 / 1,029\n",
      "3     0     0     0    0     2    3    2     949  0    0.0104275   10 / 959\n",
      "0     5     1     0    2     2    0    1     1    943  0.0125654   12 / 955\n",
      "1030  1001  1044  944  1036  948  965  1037  957  950  0.0111985   111 / 9,912\n",
      "\n",
      "Top-10 Hit Ratios: \n",
      "k    hit_ratio\n",
      "---  -----------\n",
      "1    0.988801\n",
      "2    0.997478\n",
      "3    0.998487\n",
      "4    0.998789\n",
      "5    0.999294\n",
      "6    0.999496\n",
      "7    0.999596\n",
      "8    0.999697\n",
      "9    0.999798\n",
      "10   1\n",
      "\n",
      "Cross-Validation Metrics Summary: \n",
      "                         mean       sd           cv_1_valid    cv_2_valid    cv_3_valid    cv_4_valid    cv_5_valid\n",
      "-----------------------  ---------  -----------  ------------  ------------  ------------  ------------  ------------\n",
      "accuracy                 0.98884    0.00319593   0.991192      0.989516      0.99038       0.989879      0.983235\n",
      "err                      0.0111599  0.00319593   0.00880829    0.0104843     0.00962025    0.0101215     0.0167653\n",
      "err_count                22.2       6.76018      17            21            19            20            34\n",
      "logloss                  0.0423149  0.00920977   0.0306879     0.0444512     0.0366418     0.0447796     0.0550141\n",
      "max_per_class_error      0.0357145  0.00968348   0.0295567     0.0284091     0.0295567     0.0506912     0.0403587\n",
      "mean_per_class_accuracy  0.988998   0.00300023   0.991358      0.989286      0.990462      0.990085      0.983799\n",
      "mean_per_class_error     0.0110021  0.00300023   0.00864231    0.0107143     0.00953774    0.00991517    0.016201\n",
      "mse                      0.0102864  0.00248666   0.00804433    0.0100151     0.00911329    0.00973568    0.0145236\n",
      "r2                       0.998759   0.000295001  0.999008      0.998766      0.998921      0.998843      0.998256\n",
      "rmse                     0.100882   0.0116788    0.0896902     0.100075      0.0954635     0.0986695     0.120514\n",
      "\n",
      "Scoring History: \n",
      "     timestamp            duration    number_of_trees    training_rmse         training_logloss       training_classification_error\n",
      "---  -------------------  ----------  -----------------  --------------------  ---------------------  -------------------------------\n",
      "     2020-01-06 07:03:19  26.425 sec  0.0                0.9000000000000012    2.3025850929940694     0.8992130750605327\n",
      "     2020-01-06 07:03:19  26.643 sec  1.0                0.7828803918990983    1.538188146894782      0.030972558514931397\n",
      "     2020-01-06 07:03:20  26.780 sec  2.0                0.6954707044467807    1.2040321271575192     0.026230831315577078\n",
      "     2020-01-06 07:03:20  26.886 sec  3.0                0.6177133768517781    0.9766058961943687     0.023405972558514933\n",
      "     2020-01-06 07:03:20  26.972 sec  4.0                0.5474939737294265    0.8062796366413816     0.020278450363196126\n",
      "---  ---                  ---         ---                ---                   ---                    ---\n",
      "     2020-01-06 07:03:23  30.122 sec  44.0               0.00982075350750128   0.0035168932635844894  0.0\n",
      "     2020-01-06 07:03:23  30.200 sec  45.0               0.00877509459861699   0.003127776815380132   0.0\n",
      "     2020-01-06 07:03:23  30.277 sec  46.0               0.007990742942959414  0.002808033204335121   0.0\n",
      "     2020-01-06 07:03:23  30.353 sec  47.0               0.007126791958968926  0.002485521418202968   0.0\n",
      "     2020-01-06 07:03:23  30.583 sec  50.0               0.005187814942813795  0.0017640130420225268  0.0\n",
      "\n",
      "Variable Importances: \n",
      "variable    relative_importance    scaled_importance    percentage\n",
      "----------  ---------------------  -------------------  ------------\n",
      "pix16       5985.41                1                    0.176257\n",
      "pix10       3256.86                0.544133             0.0959072\n",
      "pix14       2814.83                0.470282             0.0828906\n",
      "pix1        2577.63                0.430651             0.0759054\n",
      "pix15       2544.5                 0.425117             0.07493\n",
      "pix6        2334.69                0.390064             0.0687515\n",
      "pix2        2132.94                0.356356             0.0628104\n",
      "pix7        2086.6                 0.348615             0.0614458\n",
      "pix11       1916.71                0.320231             0.056443\n",
      "pix5        1901.55                0.317698             0.0559966\n",
      "pix9        1612.68                0.269436             0.04749\n",
      "pix4        1511.32                0.252501             0.044505\n",
      "pix8        1038.63                0.173527             0.0305853\n",
      "pix3        1003.38                0.167637             0.0295473\n",
      "pix13       838.745                0.140132             0.0246992\n",
      "pix12       401.919                0.0671498            0.0118356"
     ]
    }
   ],
   "source": [
    "model_gbm"
   ]
  },
  {
   "cell_type": "code",
   "execution_count": null,
   "metadata": {},
   "outputs": [],
   "source": []
  }
 ],
 "metadata": {
  "kernelspec": {
   "display_name": "PySpark",
   "language": "",
   "name": "pysparkkernel"
  },
  "language_info": {
   "codemirror_mode": {
    "name": "python",
    "version": 2
   },
   "mimetype": "text/x-python",
   "name": "pyspark",
   "pygments_lexer": "python2"
  }
 },
 "nbformat": 4,
 "nbformat_minor": 2
}

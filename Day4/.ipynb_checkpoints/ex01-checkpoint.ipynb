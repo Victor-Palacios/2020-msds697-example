{
 "cells": [
  {
   "cell_type": "code",
   "execution_count": 1,
   "metadata": {},
   "outputs": [],
   "source": [
    "from pyspark.sql import SparkSession\n",
    "ss = SparkSession.builder.getOrCreate()"
   ]
  },
  {
   "cell_type": "code",
   "execution_count": 2,
   "metadata": {},
   "outputs": [
    {
     "name": "stdout",
     "output_type": "stream",
     "text": [
      "Connecting to H2O server at http://192.168.1.13:54321 ... successful.\n"
     ]
    },
    {
     "data": {
      "text/html": [
       "<div style=\"overflow:auto\"><table style=\"width:50%\"><tr><td>H2O cluster uptime:</td>\n",
       "<td>11 secs</td></tr>\n",
       "<tr><td>H2O cluster timezone:</td>\n",
       "<td>America/Los_Angeles</td></tr>\n",
       "<tr><td>H2O data parsing timezone:</td>\n",
       "<td>UTC</td></tr>\n",
       "<tr><td>H2O cluster version:</td>\n",
       "<td>3.28.0.1</td></tr>\n",
       "<tr><td>H2O cluster version age:</td>\n",
       "<td>27 days </td></tr>\n",
       "<tr><td>H2O cluster name:</td>\n",
       "<td>sparkling-water-dwoodbridge_local-1578958731932</td></tr>\n",
       "<tr><td>H2O cluster total nodes:</td>\n",
       "<td>1</td></tr>\n",
       "<tr><td>H2O cluster free memory:</td>\n",
       "<td>511.7 Mb</td></tr>\n",
       "<tr><td>H2O cluster total cores:</td>\n",
       "<td>8</td></tr>\n",
       "<tr><td>H2O cluster allowed cores:</td>\n",
       "<td>8</td></tr>\n",
       "<tr><td>H2O cluster status:</td>\n",
       "<td>accepting new members, healthy</td></tr>\n",
       "<tr><td>H2O connection url:</td>\n",
       "<td>http://192.168.1.13:54321</td></tr>\n",
       "<tr><td>H2O connection proxy:</td>\n",
       "<td>None</td></tr>\n",
       "<tr><td>H2O internal security:</td>\n",
       "<td>False</td></tr>\n",
       "<tr><td>H2O API Extensions:</td>\n",
       "<td>XGBoost, Algos, Amazon S3, AutoML, Core V3, TargetEncoder, Core V4</td></tr>\n",
       "<tr><td>Python version:</td>\n",
       "<td>3.7.4 final</td></tr></table></div>"
      ],
      "text/plain": [
       "--------------------------  ------------------------------------------------------------------\n",
       "H2O cluster uptime:         11 secs\n",
       "H2O cluster timezone:       America/Los_Angeles\n",
       "H2O data parsing timezone:  UTC\n",
       "H2O cluster version:        3.28.0.1\n",
       "H2O cluster version age:    27 days\n",
       "H2O cluster name:           sparkling-water-dwoodbridge_local-1578958731932\n",
       "H2O cluster total nodes:    1\n",
       "H2O cluster free memory:    511.7 Mb\n",
       "H2O cluster total cores:    8\n",
       "H2O cluster allowed cores:  8\n",
       "H2O cluster status:         accepting new members, healthy\n",
       "H2O connection url:         http://192.168.1.13:54321\n",
       "H2O connection proxy:\n",
       "H2O internal security:      False\n",
       "H2O API Extensions:         XGBoost, Algos, Amazon S3, AutoML, Core V3, TargetEncoder, Core V4\n",
       "Python version:             3.7.4 final\n",
       "--------------------------  ------------------------------------------------------------------"
      ]
     },
     "metadata": {},
     "output_type": "display_data"
    },
    {
     "name": "stdout",
     "output_type": "stream",
     "text": [
      "\n",
      "Sparkling Water Context:\n",
      " * Sparkling Water Version: 3.28.0.1-1-2.4\n",
      " * H2O name: sparkling-water-dwoodbridge_local-1578958731932\n",
      " * cluster size: 1\n",
      " * list of used nodes:\n",
      "  (executorId, host, port)\n",
      "  ------------------------\n",
      "  (driver,192.168.1.13,54321)\n",
      "  ------------------------\n",
      "\n",
      "  Open H2O Flow in browser: http://192.168.1.13:54321 (CMD + click in Mac OSX)\n",
      "\n",
      "    \n"
     ]
    }
   ],
   "source": [
    "from pysparkling import *\n",
    "hc = H2OContext.getOrCreate(ss)"
   ]
  },
  {
   "cell_type": "markdown",
   "metadata": {},
   "source": [
    "## Initialize H2OContext"
   ]
  },
  {
   "cell_type": "code",
   "execution_count": 3,
   "metadata": {},
   "outputs": [
    {
     "name": "stdout",
     "output_type": "stream",
     "text": [
      "\n",
      "Sparkling Water Context:\n",
      " * Sparkling Water Version: 3.28.0.1-1-2.4\n",
      " * H2O name: sparkling-water-dwoodbridge_local-1578958731932\n",
      " * cluster size: 1\n",
      " * list of used nodes:\n",
      "  (executorId, host, port)\n",
      "  ------------------------\n",
      "  (driver,192.168.1.13,54321)\n",
      "  ------------------------\n",
      "\n",
      "  Open H2O Flow in browser: http://192.168.1.13:54321 (CMD + click in Mac OSX)\n",
      "\n",
      "    \n"
     ]
    },
    {
     "data": {
      "text/plain": []
     },
     "execution_count": 3,
     "metadata": {},
     "output_type": "execute_result"
    }
   ],
   "source": [
    "hc"
   ]
  },
  {
   "cell_type": "markdown",
   "metadata": {},
   "source": [
    "## Create H2ODataFrame"
   ]
  },
  {
   "cell_type": "markdown",
   "metadata": {},
   "source": [
    "### 1. Create from RDD"
   ]
  },
  {
   "cell_type": "code",
   "execution_count": 4,
   "metadata": {},
   "outputs": [],
   "source": [
    "from pyspark import SparkContext\n",
    "sc = SparkContext.getOrCreate()\n",
    "\n",
    "def toDoubleSafe(v):\n",
    "    try:\n",
    "        return float(v)\n",
    "    except ValueError:\n",
    "        return str(v) #if it is not a float type return as a string.\n",
    "\n",
    "\n",
    "#load and convert the data\n",
    "census_raw = sc.textFile(\"../Data/adult.raw\", 4).map(lambda x:  x.split(\", \"))\n",
    "census_raw = census_raw.map(lambda row:  [toDoubleSafe(x) for x in row])"
   ]
  },
  {
   "cell_type": "code",
   "execution_count": 5,
   "metadata": {},
   "outputs": [],
   "source": [
    "census_h2o = hc.as_h2o_frame(census_raw, \"census\")"
   ]
  },
  {
   "cell_type": "code",
   "execution_count": 6,
   "metadata": {},
   "outputs": [
    {
     "data": {
      "text/html": [
       "<table>\n",
       "<thead>\n",
       "<tr><th style=\"text-align: right;\">  age</th><th>capital_gain    </th><th style=\"text-align: right;\">  capital_loss</th><th>education  </th><th>fnlwgt               </th><th>hours_per_week   </th><th>income       </th><th>marital_status  </th><th>native_country  </th><th style=\"text-align: right;\">  occupation</th><th style=\"text-align: right;\">  race</th><th style=\"text-align: right;\">  relationship</th><th>sex          </th><th>workclass  </th></tr>\n",
       "</thead>\n",
       "<tbody>\n",
       "<tr><td style=\"text-align: right;\">   39</td><td>State-gov       </td><td style=\"text-align: right;\">         77516</td><td>Bachelors  </td><td>Never-married        </td><td>Adm-clerical     </td><td>Not-in-family</td><td>White           </td><td>Male            </td><td style=\"text-align: right;\">        2174</td><td style=\"text-align: right;\">     0</td><td style=\"text-align: right;\">            40</td><td>United-States</td><td><=50K      </td></tr>\n",
       "<tr><td style=\"text-align: right;\">   50</td><td>Self-emp-not-inc</td><td style=\"text-align: right;\">         83311</td><td>Bachelors  </td><td>Married-civ-spouse   </td><td>Exec-managerial  </td><td>Husband      </td><td>White           </td><td>Male            </td><td style=\"text-align: right;\">           0</td><td style=\"text-align: right;\">     0</td><td style=\"text-align: right;\">            13</td><td>United-States</td><td><=50K      </td></tr>\n",
       "<tr><td style=\"text-align: right;\">   38</td><td>Private         </td><td style=\"text-align: right;\">        215646</td><td>HS-grad    </td><td>Divorced             </td><td>Handlers-cleaners</td><td>Not-in-family</td><td>White           </td><td>Male            </td><td style=\"text-align: right;\">           0</td><td style=\"text-align: right;\">     0</td><td style=\"text-align: right;\">            40</td><td>United-States</td><td><=50K      </td></tr>\n",
       "<tr><td style=\"text-align: right;\">   53</td><td>Private         </td><td style=\"text-align: right;\">        234721</td><td>11th       </td><td>Married-civ-spouse   </td><td>Handlers-cleaners</td><td>Husband      </td><td>Black           </td><td>Male            </td><td style=\"text-align: right;\">           0</td><td style=\"text-align: right;\">     0</td><td style=\"text-align: right;\">            40</td><td>United-States</td><td><=50K      </td></tr>\n",
       "<tr><td style=\"text-align: right;\">   28</td><td>Private         </td><td style=\"text-align: right;\">        338409</td><td>Bachelors  </td><td>Married-civ-spouse   </td><td>Prof-specialty   </td><td>Wife         </td><td>Black           </td><td>Female          </td><td style=\"text-align: right;\">           0</td><td style=\"text-align: right;\">     0</td><td style=\"text-align: right;\">            40</td><td>Cuba         </td><td><=50K      </td></tr>\n",
       "<tr><td style=\"text-align: right;\">   37</td><td>Private         </td><td style=\"text-align: right;\">        284582</td><td>Masters    </td><td>Married-civ-spouse   </td><td>Exec-managerial  </td><td>Wife         </td><td>White           </td><td>Female          </td><td style=\"text-align: right;\">           0</td><td style=\"text-align: right;\">     0</td><td style=\"text-align: right;\">            40</td><td>United-States</td><td><=50K      </td></tr>\n",
       "<tr><td style=\"text-align: right;\">   49</td><td>Private         </td><td style=\"text-align: right;\">        160187</td><td>9th        </td><td>Married-spouse-absent</td><td>Other-service    </td><td>Not-in-family</td><td>Black           </td><td>Female          </td><td style=\"text-align: right;\">           0</td><td style=\"text-align: right;\">     0</td><td style=\"text-align: right;\">            16</td><td>Jamaica      </td><td><=50K      </td></tr>\n",
       "<tr><td style=\"text-align: right;\">   52</td><td>Self-emp-not-inc</td><td style=\"text-align: right;\">        209642</td><td>HS-grad    </td><td>Married-civ-spouse   </td><td>Exec-managerial  </td><td>Husband      </td><td>White           </td><td>Male            </td><td style=\"text-align: right;\">           0</td><td style=\"text-align: right;\">     0</td><td style=\"text-align: right;\">            45</td><td>United-States</td><td>>50K       </td></tr>\n",
       "<tr><td style=\"text-align: right;\">   31</td><td>Private         </td><td style=\"text-align: right;\">         45781</td><td>Masters    </td><td>Never-married        </td><td>Prof-specialty   </td><td>Not-in-family</td><td>White           </td><td>Female          </td><td style=\"text-align: right;\">       14084</td><td style=\"text-align: right;\">     0</td><td style=\"text-align: right;\">            50</td><td>United-States</td><td>>50K       </td></tr>\n",
       "<tr><td style=\"text-align: right;\">   42</td><td>Private         </td><td style=\"text-align: right;\">        159449</td><td>Bachelors  </td><td>Married-civ-spouse   </td><td>Exec-managerial  </td><td>Husband      </td><td>White           </td><td>Male            </td><td style=\"text-align: right;\">        5178</td><td style=\"text-align: right;\">     0</td><td style=\"text-align: right;\">            40</td><td>United-States</td><td>>50K       </td></tr>\n",
       "</tbody>\n",
       "</table>"
      ]
     },
     "metadata": {},
     "output_type": "display_data"
    },
    {
     "data": {
      "text/plain": []
     },
     "execution_count": 6,
     "metadata": {},
     "output_type": "execute_result"
    }
   ],
   "source": [
    "census_h2o.set_names([\"age\", \"capital_gain\", \"capital_loss\", \"education\", \"fnlwgt\", \"hours_per_week\", \"income\", \"marital_status\", \"native_country\", \"occupation\", \"race\", \"relationship\", \"sex\", \"workclass\"])"
   ]
  },
  {
   "cell_type": "markdown",
   "metadata": {},
   "source": [
    "## H2OFrame Description"
   ]
  },
  {
   "cell_type": "code",
   "execution_count": 7,
   "metadata": {},
   "outputs": [
    {
     "data": {
      "text/html": [
       "<table>\n",
       "<thead>\n",
       "<tr><th>       </th><th>age               </th><th>capital_gain    </th><th>capital_loss      </th><th>education  </th><th>fnlwgt               </th><th>hours_per_week   </th><th>income       </th><th>marital_status  </th><th>native_country  </th><th>occupation        </th><th>race              </th><th>relationship      </th><th>sex          </th><th>workclass  </th></tr>\n",
       "</thead>\n",
       "<tbody>\n",
       "<tr><td>type   </td><td>int               </td><td>string          </td><td>int               </td><td>string     </td><td>string               </td><td>string           </td><td>string       </td><td>string          </td><td>string          </td><td>int               </td><td>int               </td><td>int               </td><td>string       </td><td>string     </td></tr>\n",
       "<tr><td>mins   </td><td>17.0              </td><td>NaN             </td><td>12285.0           </td><td>NaN        </td><td>NaN                  </td><td>NaN              </td><td>NaN          </td><td>NaN             </td><td>NaN             </td><td>0.0               </td><td>0.0               </td><td>1.0               </td><td>NaN          </td><td>NaN        </td></tr>\n",
       "<tr><td>mean   </td><td>38.64358543876177 </td><td>NaN             </td><td>189664.13459727296</td><td>NaN        </td><td>NaN                  </td><td>NaN              </td><td>NaN          </td><td>NaN             </td><td>NaN             </td><td>1079.0676262233324</td><td>87.50231358257236 </td><td>40.42238237582413 </td><td>NaN          </td><td>NaN        </td></tr>\n",
       "<tr><td>maxs   </td><td>90.0              </td><td>NaN             </td><td>1490400.0         </td><td>NaN        </td><td>NaN                  </td><td>NaN              </td><td>NaN          </td><td>NaN             </td><td>NaN             </td><td>99999.0           </td><td>4356.0            </td><td>99.0              </td><td>NaN          </td><td>NaN        </td></tr>\n",
       "<tr><td>sigma  </td><td>13.710509934443552</td><td>NaN             </td><td>105604.02542315725</td><td>NaN        </td><td>NaN                  </td><td>NaN              </td><td>NaN          </td><td>NaN             </td><td>NaN             </td><td>7452.019057655393 </td><td>403.00455212435895</td><td>12.391444024252296</td><td>NaN          </td><td>NaN        </td></tr>\n",
       "<tr><td>zeros  </td><td>0                 </td><td>0               </td><td>0                 </td><td>0          </td><td>0                    </td><td>0                </td><td>0            </td><td>0               </td><td>0               </td><td>44807             </td><td>46560             </td><td>0                 </td><td>0            </td><td>0          </td></tr>\n",
       "<tr><td>missing</td><td>0                 </td><td>0               </td><td>0                 </td><td>0          </td><td>0                    </td><td>0                </td><td>0            </td><td>0               </td><td>0               </td><td>0                 </td><td>0                 </td><td>0                 </td><td>0            </td><td>0          </td></tr>\n",
       "<tr><td>0      </td><td>39.0              </td><td>State-gov       </td><td>77516.0           </td><td>Bachelors  </td><td>Never-married        </td><td>Adm-clerical     </td><td>Not-in-family</td><td>White           </td><td>Male            </td><td>2174.0            </td><td>0.0               </td><td>40.0              </td><td>United-States</td><td><=50K      </td></tr>\n",
       "<tr><td>1      </td><td>50.0              </td><td>Self-emp-not-inc</td><td>83311.0           </td><td>Bachelors  </td><td>Married-civ-spouse   </td><td>Exec-managerial  </td><td>Husband      </td><td>White           </td><td>Male            </td><td>0.0               </td><td>0.0               </td><td>13.0              </td><td>United-States</td><td><=50K      </td></tr>\n",
       "<tr><td>2      </td><td>38.0              </td><td>Private         </td><td>215646.0          </td><td>HS-grad    </td><td>Divorced             </td><td>Handlers-cleaners</td><td>Not-in-family</td><td>White           </td><td>Male            </td><td>0.0               </td><td>0.0               </td><td>40.0              </td><td>United-States</td><td><=50K      </td></tr>\n",
       "<tr><td>3      </td><td>53.0              </td><td>Private         </td><td>234721.0          </td><td>11th       </td><td>Married-civ-spouse   </td><td>Handlers-cleaners</td><td>Husband      </td><td>Black           </td><td>Male            </td><td>0.0               </td><td>0.0               </td><td>40.0              </td><td>United-States</td><td><=50K      </td></tr>\n",
       "<tr><td>4      </td><td>28.0              </td><td>Private         </td><td>338409.0          </td><td>Bachelors  </td><td>Married-civ-spouse   </td><td>Prof-specialty   </td><td>Wife         </td><td>Black           </td><td>Female          </td><td>0.0               </td><td>0.0               </td><td>40.0              </td><td>Cuba         </td><td><=50K      </td></tr>\n",
       "<tr><td>5      </td><td>37.0              </td><td>Private         </td><td>284582.0          </td><td>Masters    </td><td>Married-civ-spouse   </td><td>Exec-managerial  </td><td>Wife         </td><td>White           </td><td>Female          </td><td>0.0               </td><td>0.0               </td><td>40.0              </td><td>United-States</td><td><=50K      </td></tr>\n",
       "<tr><td>6      </td><td>49.0              </td><td>Private         </td><td>160187.0          </td><td>9th        </td><td>Married-spouse-absent</td><td>Other-service    </td><td>Not-in-family</td><td>Black           </td><td>Female          </td><td>0.0               </td><td>0.0               </td><td>16.0              </td><td>Jamaica      </td><td><=50K      </td></tr>\n",
       "<tr><td>7      </td><td>52.0              </td><td>Self-emp-not-inc</td><td>209642.0          </td><td>HS-grad    </td><td>Married-civ-spouse   </td><td>Exec-managerial  </td><td>Husband      </td><td>White           </td><td>Male            </td><td>0.0               </td><td>0.0               </td><td>45.0              </td><td>United-States</td><td>>50K       </td></tr>\n",
       "<tr><td>8      </td><td>31.0              </td><td>Private         </td><td>45781.0           </td><td>Masters    </td><td>Never-married        </td><td>Prof-specialty   </td><td>Not-in-family</td><td>White           </td><td>Female          </td><td>14084.0           </td><td>0.0               </td><td>50.0              </td><td>United-States</td><td>>50K       </td></tr>\n",
       "<tr><td>9      </td><td>42.0              </td><td>Private         </td><td>159449.0          </td><td>Bachelors  </td><td>Married-civ-spouse   </td><td>Exec-managerial  </td><td>Husband      </td><td>White           </td><td>Male            </td><td>5178.0            </td><td>0.0               </td><td>40.0              </td><td>United-States</td><td>>50K       </td></tr>\n",
       "</tbody>\n",
       "</table>"
      ]
     },
     "metadata": {},
     "output_type": "display_data"
    }
   ],
   "source": [
    "census_h2o.summary()"
   ]
  },
  {
   "cell_type": "code",
   "execution_count": 8,
   "metadata": {},
   "outputs": [
    {
     "name": "stdout",
     "output_type": "stream",
     "text": [
      "Rows:48842\n",
      "Cols:14\n",
      "\n",
      "\n"
     ]
    },
    {
     "data": {
      "text/html": [
       "<table>\n",
       "<thead>\n",
       "<tr><th>       </th><th>age               </th><th>capital_gain    </th><th>capital_loss      </th><th>education  </th><th>fnlwgt               </th><th>hours_per_week   </th><th>income       </th><th>marital_status  </th><th>native_country  </th><th>occupation        </th><th>race              </th><th>relationship      </th><th>sex          </th><th>workclass  </th></tr>\n",
       "</thead>\n",
       "<tbody>\n",
       "<tr><td>type   </td><td>int               </td><td>string          </td><td>int               </td><td>string     </td><td>string               </td><td>string           </td><td>string       </td><td>string          </td><td>string          </td><td>int               </td><td>int               </td><td>int               </td><td>string       </td><td>string     </td></tr>\n",
       "<tr><td>mins   </td><td>17.0              </td><td>NaN             </td><td>12285.0           </td><td>NaN        </td><td>NaN                  </td><td>NaN              </td><td>NaN          </td><td>NaN             </td><td>NaN             </td><td>0.0               </td><td>0.0               </td><td>1.0               </td><td>NaN          </td><td>NaN        </td></tr>\n",
       "<tr><td>mean   </td><td>38.64358543876177 </td><td>NaN             </td><td>189664.13459727296</td><td>NaN        </td><td>NaN                  </td><td>NaN              </td><td>NaN          </td><td>NaN             </td><td>NaN             </td><td>1079.0676262233324</td><td>87.50231358257236 </td><td>40.42238237582413 </td><td>NaN          </td><td>NaN        </td></tr>\n",
       "<tr><td>maxs   </td><td>90.0              </td><td>NaN             </td><td>1490400.0         </td><td>NaN        </td><td>NaN                  </td><td>NaN              </td><td>NaN          </td><td>NaN             </td><td>NaN             </td><td>99999.0           </td><td>4356.0            </td><td>99.0              </td><td>NaN          </td><td>NaN        </td></tr>\n",
       "<tr><td>sigma  </td><td>13.710509934443552</td><td>NaN             </td><td>105604.02542315725</td><td>NaN        </td><td>NaN                  </td><td>NaN              </td><td>NaN          </td><td>NaN             </td><td>NaN             </td><td>7452.019057655393 </td><td>403.00455212435895</td><td>12.391444024252296</td><td>NaN          </td><td>NaN        </td></tr>\n",
       "<tr><td>zeros  </td><td>0                 </td><td>0               </td><td>0                 </td><td>0          </td><td>0                    </td><td>0                </td><td>0            </td><td>0               </td><td>0               </td><td>44807             </td><td>46560             </td><td>0                 </td><td>0            </td><td>0          </td></tr>\n",
       "<tr><td>missing</td><td>0                 </td><td>0               </td><td>0                 </td><td>0          </td><td>0                    </td><td>0                </td><td>0            </td><td>0               </td><td>0               </td><td>0                 </td><td>0                 </td><td>0                 </td><td>0            </td><td>0          </td></tr>\n",
       "<tr><td>0      </td><td>39.0              </td><td>State-gov       </td><td>77516.0           </td><td>Bachelors  </td><td>Never-married        </td><td>Adm-clerical     </td><td>Not-in-family</td><td>White           </td><td>Male            </td><td>2174.0            </td><td>0.0               </td><td>40.0              </td><td>United-States</td><td><=50K      </td></tr>\n",
       "<tr><td>1      </td><td>50.0              </td><td>Self-emp-not-inc</td><td>83311.0           </td><td>Bachelors  </td><td>Married-civ-spouse   </td><td>Exec-managerial  </td><td>Husband      </td><td>White           </td><td>Male            </td><td>0.0               </td><td>0.0               </td><td>13.0              </td><td>United-States</td><td><=50K      </td></tr>\n",
       "<tr><td>2      </td><td>38.0              </td><td>Private         </td><td>215646.0          </td><td>HS-grad    </td><td>Divorced             </td><td>Handlers-cleaners</td><td>Not-in-family</td><td>White           </td><td>Male            </td><td>0.0               </td><td>0.0               </td><td>40.0              </td><td>United-States</td><td><=50K      </td></tr>\n",
       "<tr><td>3      </td><td>53.0              </td><td>Private         </td><td>234721.0          </td><td>11th       </td><td>Married-civ-spouse   </td><td>Handlers-cleaners</td><td>Husband      </td><td>Black           </td><td>Male            </td><td>0.0               </td><td>0.0               </td><td>40.0              </td><td>United-States</td><td><=50K      </td></tr>\n",
       "<tr><td>4      </td><td>28.0              </td><td>Private         </td><td>338409.0          </td><td>Bachelors  </td><td>Married-civ-spouse   </td><td>Prof-specialty   </td><td>Wife         </td><td>Black           </td><td>Female          </td><td>0.0               </td><td>0.0               </td><td>40.0              </td><td>Cuba         </td><td><=50K      </td></tr>\n",
       "<tr><td>5      </td><td>37.0              </td><td>Private         </td><td>284582.0          </td><td>Masters    </td><td>Married-civ-spouse   </td><td>Exec-managerial  </td><td>Wife         </td><td>White           </td><td>Female          </td><td>0.0               </td><td>0.0               </td><td>40.0              </td><td>United-States</td><td><=50K      </td></tr>\n",
       "<tr><td>6      </td><td>49.0              </td><td>Private         </td><td>160187.0          </td><td>9th        </td><td>Married-spouse-absent</td><td>Other-service    </td><td>Not-in-family</td><td>Black           </td><td>Female          </td><td>0.0               </td><td>0.0               </td><td>16.0              </td><td>Jamaica      </td><td><=50K      </td></tr>\n",
       "<tr><td>7      </td><td>52.0              </td><td>Self-emp-not-inc</td><td>209642.0          </td><td>HS-grad    </td><td>Married-civ-spouse   </td><td>Exec-managerial  </td><td>Husband      </td><td>White           </td><td>Male            </td><td>0.0               </td><td>0.0               </td><td>45.0              </td><td>United-States</td><td>>50K       </td></tr>\n",
       "<tr><td>8      </td><td>31.0              </td><td>Private         </td><td>45781.0           </td><td>Masters    </td><td>Never-married        </td><td>Prof-specialty   </td><td>Not-in-family</td><td>White           </td><td>Female          </td><td>14084.0           </td><td>0.0               </td><td>50.0              </td><td>United-States</td><td>>50K       </td></tr>\n",
       "<tr><td>9      </td><td>42.0              </td><td>Private         </td><td>159449.0          </td><td>Bachelors  </td><td>Married-civ-spouse   </td><td>Exec-managerial  </td><td>Husband      </td><td>White           </td><td>Male            </td><td>5178.0            </td><td>0.0               </td><td>40.0              </td><td>United-States</td><td>>50K       </td></tr>\n",
       "</tbody>\n",
       "</table>"
      ]
     },
     "metadata": {},
     "output_type": "display_data"
    }
   ],
   "source": [
    "census_h2o.describe()"
   ]
  },
  {
   "cell_type": "code",
   "execution_count": 9,
   "metadata": {},
   "outputs": [
    {
     "data": {
      "text/plain": [
       "(48842, 14)"
      ]
     },
     "execution_count": 9,
     "metadata": {},
     "output_type": "execute_result"
    }
   ],
   "source": [
    "census_h2o.shape"
   ]
  },
  {
   "cell_type": "code",
   "execution_count": 10,
   "metadata": {},
   "outputs": [
    {
     "data": {
      "text/plain": [
       "['age',\n",
       " 'capital_gain',\n",
       " 'capital_loss',\n",
       " 'education',\n",
       " 'fnlwgt',\n",
       " 'hours_per_week',\n",
       " 'income',\n",
       " 'marital_status',\n",
       " 'native_country',\n",
       " 'occupation',\n",
       " 'race',\n",
       " 'relationship',\n",
       " 'sex',\n",
       " 'workclass']"
      ]
     },
     "execution_count": 10,
     "metadata": {},
     "output_type": "execute_result"
    }
   ],
   "source": [
    "census_h2o.columns"
   ]
  },
  {
   "cell_type": "code",
   "execution_count": 11,
   "metadata": {},
   "outputs": [
    {
     "data": {
      "text/plain": [
       "{'age': 'int',\n",
       " 'capital_gain': 'string',\n",
       " 'capital_loss': 'int',\n",
       " 'education': 'string',\n",
       " 'fnlwgt': 'string',\n",
       " 'hours_per_week': 'string',\n",
       " 'income': 'string',\n",
       " 'marital_status': 'string',\n",
       " 'native_country': 'string',\n",
       " 'occupation': 'int',\n",
       " 'race': 'int',\n",
       " 'relationship': 'int',\n",
       " 'sex': 'string',\n",
       " 'workclass': 'string'}"
      ]
     },
     "execution_count": 11,
     "metadata": {},
     "output_type": "execute_result"
    }
   ],
   "source": [
    "census_h2o.types"
   ]
  },
  {
   "cell_type": "code",
   "execution_count": 12,
   "metadata": {},
   "outputs": [
    {
     "data": {
      "text/plain": [
       "[0.0, 2.0, 9.0, 10.0, 11.0]"
      ]
     },
     "execution_count": 12,
     "metadata": {},
     "output_type": "execute_result"
    }
   ],
   "source": [
    "census_h2o.columns_by_type(coltype='numeric')"
   ]
  },
  {
   "cell_type": "code",
   "execution_count": 13,
   "metadata": {},
   "outputs": [
    {
     "data": {
      "text/plain": [
       "[1.0, 3.0, 4.0, 5.0, 6.0, 7.0, 8.0, 12.0, 13.0]"
      ]
     },
     "execution_count": 13,
     "metadata": {},
     "output_type": "execute_result"
    }
   ],
   "source": [
    "census_h2o.columns_by_type(coltype='string')"
   ]
  },
  {
   "cell_type": "markdown",
   "metadata": {},
   "source": [
    "## Convert H2OFrame to Spark DataFrame, RDD"
   ]
  },
  {
   "cell_type": "code",
   "execution_count": 14,
   "metadata": {},
   "outputs": [
    {
     "ename": "TypeError",
     "evalue": "as_spark_frame() missing 1 required positional argument: 'h2o_frame'",
     "output_type": "error",
     "traceback": [
      "\u001b[0;31m---------------------------------------------------------------------------\u001b[0m",
      "\u001b[0;31mTypeError\u001b[0m                                 Traceback (most recent call last)",
      "\u001b[0;32m<ipython-input-14-7a2fb92a797a>\u001b[0m in \u001b[0;36m<module>\u001b[0;34m\u001b[0m\n\u001b[0;32m----> 1\u001b[0;31m \u001b[0mcensus_df\u001b[0m \u001b[0;34m=\u001b[0m \u001b[0mhc\u001b[0m\u001b[0;34m.\u001b[0m\u001b[0mas_spark_frame\u001b[0m\u001b[0;34m(\u001b[0m\u001b[0;34m)\u001b[0m\u001b[0;34m\u001b[0m\u001b[0;34m\u001b[0m\u001b[0m\n\u001b[0m",
      "\u001b[0;31mTypeError\u001b[0m: as_spark_frame() missing 1 required positional argument: 'h2o_frame'"
     ]
    }
   ],
   "source": [
    "census_df = hc.as_spark_frame(census_h2o)"
   ]
  },
  {
   "cell_type": "code",
   "execution_count": null,
   "metadata": {},
   "outputs": [],
   "source": [
    "census_df.show(5)"
   ]
  },
  {
   "cell_type": "code",
   "execution_count": null,
   "metadata": {},
   "outputs": [],
   "source": [
    "census_rdd = census_df.rdd"
   ]
  },
  {
   "cell_type": "code",
   "execution_count": null,
   "metadata": {},
   "outputs": [],
   "source": [
    "census_rdd.take(5)"
   ]
  },
  {
   "cell_type": "markdown",
   "metadata": {},
   "source": [
    "### 2. Create from DataFrame "
   ]
  },
  {
   "cell_type": "code",
   "execution_count": null,
   "metadata": {},
   "outputs": [],
   "source": [
    "from pyspark.sql.types import *\n",
    "adultschema = StructType([\n",
    "    StructField(\"age\",DoubleType(),True),\n",
    "    StructField(\"capital_gain\",DoubleType(),True),\n",
    "    StructField(\"capital_loss\",DoubleType(),True),\n",
    "    StructField(\"education\",StringType(),True),\n",
    "    StructField(\"fnlwgt\",DoubleType(),True),\n",
    "    StructField(\"hours_per_week\",DoubleType(),True),\n",
    "    StructField(\"income\",StringType(),True),\n",
    "    StructField(\"marital_status\",StringType(),True),\n",
    "    StructField(\"native_country\",StringType(),True),\n",
    "    StructField(\"occupation\",StringType(),True),\n",
    "    StructField(\"race\",StringType(),True),\n",
    "    StructField(\"relationship\",StringType(),True),\n",
    "    StructField(\"sex\",StringType(),True),\n",
    "    StructField(\"workclass\",StringType(),True),\n",
    "])\n",
    "\n",
    "# Create a dataframe.\n",
    "from pyspark.sql import Row\n",
    "columns = [\"age\", \"workclass\", \"fnlwgt\", \"education\", \"marital_status\",\n",
    "           \"occupation\", \"relationship\", \"race\", \"sex\", \"capital_gain\", \"capital_loss\",\n",
    "           \"hours_per_week\", \"native_country\", \"income\"]\n",
    "dfraw = ss.createDataFrame(census_raw.map(lambda row: Row(**{x[0]: x[1] for x in zip(columns, row)})), \\\n",
    "                           adultschema)\n",
    "dfraw.show(5)"
   ]
  },
  {
   "cell_type": "code",
   "execution_count": null,
   "metadata": {},
   "outputs": [],
   "source": [
    "adult_h2o = hc.as_h2o_frame(dfraw, \"adult\")"
   ]
  },
  {
   "cell_type": "code",
   "execution_count": null,
   "metadata": {},
   "outputs": [],
   "source": [
    "adult_h2o.summary()"
   ]
  },
  {
   "cell_type": "markdown",
   "metadata": {},
   "source": [
    "### 3. Create from File"
   ]
  },
  {
   "cell_type": "code",
   "execution_count": null,
   "metadata": {},
   "outputs": [],
   "source": [
    "import h2o\n",
    "adult_h2o = h2o.import_file(path=\"../Data/adult.raw\")"
   ]
  },
  {
   "cell_type": "code",
   "execution_count": null,
   "metadata": {},
   "outputs": [],
   "source": [
    "adult_h2o.summary()"
   ]
  },
  {
   "cell_type": "code",
   "execution_count": null,
   "metadata": {},
   "outputs": [],
   "source": [
    "adult_h2o.set_names([\"age\", \"capital_gain\", \"capital_loss\", \"education\", \"fnlwgt\", \"hours_per_week\", \"income\", \"marital_status\", \"native_country\", \"occupation\", \"race\", \"relationship\", \"sex\", \"workclass\"])"
   ]
  },
  {
   "cell_type": "code",
   "execution_count": null,
   "metadata": {},
   "outputs": [],
   "source": [
    "adult_h2o.summary()"
   ]
  },
  {
   "cell_type": "code",
   "execution_count": null,
   "metadata": {},
   "outputs": [],
   "source": [
    "adult_h2o"
   ]
  },
  {
   "cell_type": "code",
   "execution_count": null,
   "metadata": {},
   "outputs": [],
   "source": []
  }
 ],
 "metadata": {
  "kernelspec": {
   "display_name": "Python 3",
   "language": "python",
   "name": "python3"
  },
  "language_info": {
   "codemirror_mode": {
    "name": "ipython",
    "version": 3
   },
   "file_extension": ".py",
   "mimetype": "text/x-python",
   "name": "python",
   "nbconvert_exporter": "python",
   "pygments_lexer": "ipython3",
   "version": "3.7.4"
  },
  "varInspector": {
   "cols": {
    "lenName": 16,
    "lenType": 16,
    "lenVar": 40
   },
   "kernels_config": {
    "python": {
     "delete_cmd_postfix": "",
     "delete_cmd_prefix": "del ",
     "library": "var_list.py",
     "varRefreshCmd": "print(var_dic_list())"
    },
    "r": {
     "delete_cmd_postfix": ") ",
     "delete_cmd_prefix": "rm(",
     "library": "var_list.r",
     "varRefreshCmd": "cat(var_dic_list()) "
    }
   },
   "types_to_exclude": [
    "module",
    "function",
    "builtin_function_or_method",
    "instance",
    "_Feature"
   ],
   "window_display": false
  }
 },
 "nbformat": 4,
 "nbformat_minor": 2
}

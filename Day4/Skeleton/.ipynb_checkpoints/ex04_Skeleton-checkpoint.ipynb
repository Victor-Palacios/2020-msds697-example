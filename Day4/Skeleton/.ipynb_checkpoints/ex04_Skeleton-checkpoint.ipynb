{
 "cells": [
  {
   "cell_type": "code",
   "execution_count": null,
   "metadata": {},
   "outputs": [],
   "source": [
    "from pyspark import SparkContext\n",
    "from pyspark.sql import SparkSession\n",
    "from pysparkling import *\n",
    "from pysparkling import *\n",
    "import h2o\n",
    "\n",
    "sc = SparkContext.getOrCreate()\n",
    "ss = SparkSession.builder.getOrCreate()\n",
    "hc = H2OContext.getOrCreate(ss)"
   ]
  },
  {
   "cell_type": "markdown",
   "metadata": {},
   "source": [
    "## Create H2OFrames"
   ]
  },
  {
   "cell_type": "code",
   "execution_count": null,
   "metadata": {},
   "outputs": [],
   "source": [
    "adult_train_df = ss.read.parquet(\"../Day3/spark-warehouse/adulttrain\")\n",
    "adult_train_h2o = hc.as_h2o_frame(adult_train_df, \"adult_train\")\n",
    "adult_train_h2o[\"label\"] = adult_train_h2o[\"label\"].asfactor()\n",
    "\n",
    "adult_valid_df = ss.read.parquet(\"../Day3/spark-warehouse/adultvalid\")\n",
    "adult_valid_h2o = hc.as_h2o_frame(adult_valid_df, \"adult_valid\")\n",
    "adult_valid_h2o[\"label\"] = adult_valid_h2o[\"label\"].asfactor()"
   ]
  },
  {
   "cell_type": "markdown",
   "metadata": {},
   "source": [
    "## Set variables"
   ]
  },
  {
   "cell_type": "code",
   "execution_count": null,
   "metadata": {},
   "outputs": [],
   "source": [
    "predictors = adult_valid_h2o.names[:]\n",
    "response = \"label\"\n",
    "predictors.remove(response)\n",
    "\n",
    "n_folds = 3\n",
    "fold_assignment = \"Modulo\"\n",
    "keep_cross_validation_predictions = True"
   ]
  },
  {
   "cell_type": "markdown",
   "metadata": {},
   "source": [
    "## ML Algorithms\n",
    "\n",
    "Added nfolds, fold_assignmen, keep_cross_validation_predictions\n",
    "\n",
    "Only used training_fame for three algorithms"
   ]
  },
  {
   "cell_type": "code",
   "execution_count": null,
   "metadata": {},
   "outputs": [],
   "source": [
    "from h2o.estimators.gbm import H2OGradientBoostingEstimator\n",
    "from h2o.estimators.deeplearning import H2ODeepLearningEstimator\n",
    "from h2o.estimators.xgboost import H2OXGBoostEstimator\n",
    "\n",
    "\n",
    "model_gbm = H2OGradientBoostingEstimator(ntrees=50,\n",
    "                                         max_depth=6,\n",
    "                                         learn_rate=0.1,\n",
    "                                        \n",
    "                                         \n",
    "                                         \n",
    "                                         distribution=\"bernoulli\")\n",
    "model_gbm.train(x=predictors,\n",
    "                y=\"label\",\n",
    "                training_frame=adult_train_h2o)\n",
    "\n",
    "\n",
    "model_dl = H2ODeepLearningEstimator(variable_importances=True,\n",
    "                                    \n",
    "                                    \n",
    "                                    \n",
    "                                    loss=\"Automatic\")\n",
    "\n",
    "model_dl.train(x=predictors,\n",
    "               y=\"label\",\n",
    "               training_frame=adult_train_h2o)\n",
    "\n",
    "model_xg = H2OXGBoostEstimator(\n",
    "\n",
    "\n",
    "                              )\n",
    "model_xg.train(x=predictors,\n",
    "               y=\"label\",\n",
    "               training_frame=adult_train_h2o)\n"
   ]
  },
  {
   "cell_type": "markdown",
   "metadata": {},
   "source": [
    "## Develop a stacked ensemble\n",
    "http://docs.h2o.ai/h2o/latest-stable/h2o-py/docs/_modules/h2o/estimators/stackedensemble.html\n",
    "\n",
    "http://docs.h2o.ai/h2o/latest-stable/h2o-py/docs/modeling.html#h2o.estimators.stackedensemble.H2OStackedEnsembleEstimator"
   ]
  },
  {
   "cell_type": "code",
   "execution_count": null,
   "metadata": {},
   "outputs": [],
   "source": [
    "from h2o.estimators.stackedensemble import H2OStackedEnsembleEstimator\n",
    "model_stack = "
   ]
  },
  {
   "cell_type": "code",
   "execution_count": null,
   "metadata": {},
   "outputs": [],
   "source": [
    "model_stack."
   ]
  },
  {
   "cell_type": "code",
   "execution_count": null,
   "metadata": {},
   "outputs": [],
   "source": [
    "model_stack"
   ]
  },
  {
   "cell_type": "code",
   "execution_count": null,
   "metadata": {},
   "outputs": [],
   "source": [
    "model_stack.model_performance()"
   ]
  },
  {
   "cell_type": "code",
   "execution_count": null,
   "metadata": {},
   "outputs": [],
   "source": []
  }
 ],
 "metadata": {
  "kernelspec": {
   "display_name": "Python 3",
   "language": "python",
   "name": "python3"
  },
  "language_info": {
   "codemirror_mode": {
    "name": "ipython",
    "version": 3
   },
   "file_extension": ".py",
   "mimetype": "text/x-python",
   "name": "python",
   "nbconvert_exporter": "python",
   "pygments_lexer": "ipython3",
   "version": "3.7.4"
  },
  "varInspector": {
   "cols": {
    "lenName": 16,
    "lenType": 16,
    "lenVar": 40
   },
   "kernels_config": {
    "python": {
     "delete_cmd_postfix": "",
     "delete_cmd_prefix": "del ",
     "library": "var_list.py",
     "varRefreshCmd": "print(var_dic_list())"
    },
    "r": {
     "delete_cmd_postfix": ") ",
     "delete_cmd_prefix": "rm(",
     "library": "var_list.r",
     "varRefreshCmd": "cat(var_dic_list()) "
    }
   },
   "types_to_exclude": [
    "module",
    "function",
    "builtin_function_or_method",
    "instance",
    "_Feature"
   ],
   "window_display": false
  }
 },
 "nbformat": 4,
 "nbformat_minor": 2
}

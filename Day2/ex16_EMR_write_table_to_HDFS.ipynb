{
 "cells": [
  {
   "cell_type": "code",
   "execution_count": 1,
   "metadata": {},
   "outputs": [
    {
     "data": {
      "application/vnd.jupyter.widget-view+json": {
       "model_id": "ade017668f27499f8678c2fcc810a9a0",
       "version_major": 2,
       "version_minor": 0
      },
      "text/plain": [
       "VBox()"
      ]
     },
     "metadata": {},
     "output_type": "display_data"
    },
    {
     "name": "stdout",
     "output_type": "stream",
     "text": [
      "Starting Spark application\n"
     ]
    },
    {
     "data": {
      "text/html": [
       "<table>\n",
       "<tr><th>ID</th><th>YARN Application ID</th><th>Kind</th><th>State</th><th>Spark UI</th><th>Driver log</th><th>Current session?</th></tr><tr><td>2</td><td>application_1578563100818_0003</td><td>pyspark</td><td>idle</td><td><a target=\"_blank\" href=\"http://ip-172-31-44-187.us-west-2.compute.internal:20888/proxy/application_1578563100818_0003/\">Link</a></td><td><a target=\"_blank\" href=\"http://ip-172-31-39-184.us-west-2.compute.internal:8042/node/containerlogs/container_1578563100818_0003_01_000001/livy\">Link</a></td><td>✔</td></tr></table>"
      ],
      "text/plain": [
       "<IPython.core.display.HTML object>"
      ]
     },
     "metadata": {},
     "output_type": "display_data"
    },
    {
     "data": {
      "application/vnd.jupyter.widget-view+json": {
       "model_id": "40e1c15e90ba46feaa7fe7c073177b2d",
       "version_major": 2,
       "version_minor": 0
      },
      "text/plain": [
       "FloatProgress(value=0.0, bar_style='info', description='Progress:', layout=Layout(height='25px', width='50%'),…"
      ]
     },
     "metadata": {},
     "output_type": "display_data"
    },
    {
     "name": "stdout",
     "output_type": "stream",
     "text": [
      "SparkSession available as 'spark'.\n"
     ]
    },
    {
     "data": {
      "application/vnd.jupyter.widget-view+json": {
       "model_id": "d868a4c7f7da4031953c9e462b9ba487",
       "version_major": 2,
       "version_minor": 0
      },
      "text/plain": [
       "FloatProgress(value=0.0, bar_style='info', description='Progress:', layout=Layout(height='25px', width='50%'),…"
      ]
     },
     "metadata": {},
     "output_type": "display_data"
    },
    {
     "name": "stdout",
     "output_type": "stream",
     "text": [
      "<SparkContext master=yarn appName=livy-session-2>"
     ]
    }
   ],
   "source": [
    "sc"
   ]
  },
  {
   "cell_type": "code",
   "execution_count": 2,
   "metadata": {},
   "outputs": [
    {
     "data": {
      "application/vnd.jupyter.widget-view+json": {
       "model_id": "0c96315182d04252a9971924fe903c7e",
       "version_major": 2,
       "version_minor": 0
      },
      "text/plain": [
       "VBox()"
      ]
     },
     "metadata": {},
     "output_type": "display_data"
    },
    {
     "data": {
      "application/vnd.jupyter.widget-view+json": {
       "model_id": "f4107cf08285480b8dc3d57ef1a64d47",
       "version_major": 2,
       "version_minor": 0
      },
      "text/plain": [
       "FloatProgress(value=0.0, bar_style='info', description='Progress:', layout=Layout(height='25px', width='50%'),…"
      ]
     },
     "metadata": {},
     "output_type": "display_data"
    }
   ],
   "source": [
    "from pyspark.sql import SparkSession\n",
    "\n",
    "ss = SparkSession.builder.getOrCreate()"
   ]
  },
  {
   "cell_type": "code",
   "execution_count": 3,
   "metadata": {},
   "outputs": [
    {
     "data": {
      "application/vnd.jupyter.widget-view+json": {
       "model_id": "30b5f02c6972429dad2e6489c770400f",
       "version_major": 2,
       "version_minor": 0
      },
      "text/plain": [
       "VBox()"
      ]
     },
     "metadata": {},
     "output_type": "display_data"
    },
    {
     "data": {
      "application/vnd.jupyter.widget-view+json": {
       "model_id": "1e5f32e71e6c439484006ef50784b4d7",
       "version_major": 2,
       "version_minor": 0
      },
      "text/plain": [
       "FloatProgress(value=0.0, bar_style='info', description='Progress:', layout=Layout(height='25px', width='50%'),…"
      ]
     },
     "metadata": {},
     "output_type": "display_data"
    }
   ],
   "source": [
    "data_path = \"s3://usfca-msan694/penbased.dat\""
   ]
  },
  {
   "cell_type": "code",
   "execution_count": 4,
   "metadata": {},
   "outputs": [
    {
     "data": {
      "application/vnd.jupyter.widget-view+json": {
       "model_id": "0954d491dcc448aea0fe3dd9c8a12221",
       "version_major": 2,
       "version_minor": 0
      },
      "text/plain": [
       "VBox()"
      ]
     },
     "metadata": {},
     "output_type": "display_data"
    },
    {
     "data": {
      "application/vnd.jupyter.widget-view+json": {
       "model_id": "2c150adb3f084622858dcedfceb28a7f",
       "version_major": 2,
       "version_minor": 0
      },
      "text/plain": [
       "FloatProgress(value=0.0, bar_style='info', description='Progress:', layout=Layout(height='25px', width='50%'),…"
      ]
     },
     "metadata": {},
     "output_type": "display_data"
    }
   ],
   "source": [
    "df = ss.read.csv(data_path)"
   ]
  },
  {
   "cell_type": "markdown",
   "metadata": {},
   "source": [
    "## Assume df is one after data cleaning and pre-processing"
   ]
  },
  {
   "cell_type": "code",
   "execution_count": 5,
   "metadata": {},
   "outputs": [
    {
     "data": {
      "application/vnd.jupyter.widget-view+json": {
       "model_id": "87c3c153901741f7b9da45bfe74a9399",
       "version_major": 2,
       "version_minor": 0
      },
      "text/plain": [
       "VBox()"
      ]
     },
     "metadata": {},
     "output_type": "display_data"
    },
    {
     "data": {
      "application/vnd.jupyter.widget-view+json": {
       "model_id": "186147bc6aa5481aab2b8d5f653d4e53",
       "version_major": 2,
       "version_minor": 0
      },
      "text/plain": [
       "FloatProgress(value=0.0, bar_style='info', description='Progress:', layout=Layout(height='25px', width='50%'),…"
      ]
     },
     "metadata": {},
     "output_type": "display_data"
    },
    {
     "name": "stdout",
     "output_type": "stream",
     "text": [
      "+----+------+-----+------+------+------+------+------+-----+-----+------+-----+------+-----+------+-----+----+\n",
      "| _c0|   _c1|  _c2|   _c3|   _c4|   _c5|   _c6|   _c7|  _c8|  _c9|  _c10| _c11|  _c12| _c13|  _c14| _c15|_c16|\n",
      "+----+------+-----+------+------+------+------+------+-----+-----+------+-----+------+-----+------+-----+----+\n",
      "|47.0| 100.0| 27.0|  81.0|  57.0|  37.0|  26.0|   0.0|  0.0| 23.0|  56.0| 53.0| 100.0| 90.0|  40.0| 98.0| 8.0|\n",
      "| 0.0|  89.0| 27.0| 100.0|  42.0|  75.0|  29.0|  45.0| 15.0| 15.0|  37.0|  0.0|  69.0|  2.0| 100.0|  6.0| 2.0|\n",
      "| 0.0|  57.0| 31.0|  68.0|  72.0|  90.0| 100.0| 100.0| 76.0| 75.0|  50.0| 51.0|  28.0| 25.0|  16.0|  0.0| 1.0|\n",
      "| 0.0| 100.0|  7.0|  92.0|   5.0|  68.0|  19.0|  45.0| 86.0| 34.0| 100.0| 45.0|  74.0| 23.0|  67.0|  0.0| 4.0|\n",
      "| 0.0|  67.0| 49.0|  83.0| 100.0| 100.0|  81.0|  80.0| 60.0| 60.0|  40.0| 40.0|  33.0| 20.0|  47.0|  0.0| 1.0|\n",
      "+----+------+-----+------+------+------+------+------+-----+-----+------+-----+------+-----+------+-----+----+\n",
      "only showing top 5 rows"
     ]
    }
   ],
   "source": [
    "df.show(5)"
   ]
  },
  {
   "cell_type": "code",
   "execution_count": 6,
   "metadata": {},
   "outputs": [
    {
     "data": {
      "application/vnd.jupyter.widget-view+json": {
       "model_id": "87fbd86d7e254e838f65e106603341e3",
       "version_major": 2,
       "version_minor": 0
      },
      "text/plain": [
       "VBox()"
      ]
     },
     "metadata": {},
     "output_type": "display_data"
    },
    {
     "data": {
      "application/vnd.jupyter.widget-view+json": {
       "model_id": "2310cf9feedd487895717ccbbc265f8d",
       "version_major": 2,
       "version_minor": 0
      },
      "text/plain": [
       "FloatProgress(value=0.0, bar_style='info', description='Progress:', layout=Layout(height='25px', width='50%'),…"
      ]
     },
     "metadata": {},
     "output_type": "display_data"
    },
    {
     "name": "stderr",
     "output_type": "stream",
     "text": [
      "'Table `pendat` already exists.;'\n",
      "Traceback (most recent call last):\n",
      "  File \"/usr/lib/spark/python/lib/pyspark.zip/pyspark/sql/readwriter.py\", line 777, in saveAsTable\n",
      "    self._jwrite.saveAsTable(name)\n",
      "  File \"/usr/lib/spark/python/lib/py4j-0.10.7-src.zip/py4j/java_gateway.py\", line 1257, in __call__\n",
      "    answer, self.gateway_client, self.target_id, self.name)\n",
      "  File \"/usr/lib/spark/python/lib/pyspark.zip/pyspark/sql/utils.py\", line 69, in deco\n",
      "    raise AnalysisException(s.split(': ', 1)[1], stackTrace)\n",
      "pyspark.sql.utils.AnalysisException: 'Table `pendat` already exists.;'\n",
      "\n"
     ]
    }
   ],
   "source": [
    "df.write.option(\"path\", \"/pendat\").saveAsTable('pendat')"
   ]
  },
  {
   "cell_type": "markdown",
   "metadata": {},
   "source": [
    "## You can simply call this next time to reuse the table"
   ]
  },
  {
   "cell_type": "code",
   "execution_count": 7,
   "metadata": {},
   "outputs": [
    {
     "data": {
      "application/vnd.jupyter.widget-view+json": {
       "model_id": "f7f48e43d98348018abbae9391de706e",
       "version_major": 2,
       "version_minor": 0
      },
      "text/plain": [
       "VBox()"
      ]
     },
     "metadata": {},
     "output_type": "display_data"
    },
    {
     "data": {
      "application/vnd.jupyter.widget-view+json": {
       "model_id": "a4410b04ccf74e17a798c1c08136a925",
       "version_major": 2,
       "version_minor": 0
      },
      "text/plain": [
       "FloatProgress(value=0.0, bar_style='info', description='Progress:', layout=Layout(height='25px', width='50%'),…"
      ]
     },
     "metadata": {},
     "output_type": "display_data"
    },
    {
     "name": "stdout",
     "output_type": "stream",
     "text": [
      "+-----+------+-----+------+------+------+------+------+------+-----+------+-----+------+------+------+------+----+\n",
      "|  _c0|   _c1|  _c2|   _c3|   _c4|   _c5|   _c6|   _c7|   _c8|  _c9|  _c10| _c11|  _c12|  _c13|  _c14|  _c15|_c16|\n",
      "+-----+------+-----+------+------+------+------+------+------+-----+------+-----+------+------+------+------+----+\n",
      "| 47.0| 100.0| 27.0|  81.0|  57.0|  37.0|  26.0|   0.0|   0.0| 23.0|  56.0| 53.0| 100.0|  90.0|  40.0|  98.0| 8.0|\n",
      "|  0.0|  89.0| 27.0| 100.0|  42.0|  75.0|  29.0|  45.0|  15.0| 15.0|  37.0|  0.0|  69.0|   2.0| 100.0|   6.0| 2.0|\n",
      "|  0.0|  57.0| 31.0|  68.0|  72.0|  90.0| 100.0| 100.0|  76.0| 75.0|  50.0| 51.0|  28.0|  25.0|  16.0|   0.0| 1.0|\n",
      "|  0.0| 100.0|  7.0|  92.0|   5.0|  68.0|  19.0|  45.0|  86.0| 34.0| 100.0| 45.0|  74.0|  23.0|  67.0|   0.0| 4.0|\n",
      "|  0.0|  67.0| 49.0|  83.0| 100.0| 100.0|  81.0|  80.0|  60.0| 60.0|  40.0| 40.0|  33.0|  20.0|  47.0|   0.0| 1.0|\n",
      "|100.0| 100.0| 88.0|  99.0|  49.0|  74.0|  17.0|  47.0|   0.0| 16.0|  37.0|  0.0|  73.0|  16.0|  20.0|  20.0| 6.0|\n",
      "|  0.0| 100.0|  3.0|  72.0|  26.0|  35.0|  85.0|  35.0| 100.0| 71.0|  73.0| 97.0|  65.0|  49.0|  66.0|   0.0| 4.0|\n",
      "|  0.0|  39.0|  2.0|  62.0|  11.0|   5.0|  63.0|   0.0| 100.0| 43.0|  89.0| 99.0|  36.0| 100.0|   0.0|  57.0| 0.0|\n",
      "| 13.0|  89.0| 12.0|  50.0|  72.0|  38.0|  56.0|   0.0|   4.0| 17.0|   0.0| 61.0|  32.0|  94.0| 100.0| 100.0| 5.0|\n",
      "| 74.0|  87.0| 31.0| 100.0|   0.0|  69.0|  62.0|  64.0| 100.0| 79.0| 100.0| 38.0|  84.0|   0.0|  18.0|   1.0| 9.0|\n",
      "| 48.0|  96.0| 62.0|  65.0|  88.0|  27.0|  21.0|   0.0|  21.0| 33.0|  79.0| 67.0| 100.0| 100.0|   0.0|  85.0| 8.0|\n",
      "|100.0| 100.0| 72.0|  99.0|  36.0|  78.0|  34.0|  54.0|  79.0| 47.0|  64.0| 13.0|  19.0|   0.0|   0.0|   2.0| 5.0|\n",
      "| 91.0|  74.0| 54.0| 100.0|   0.0|  87.0|  23.0|  59.0|  81.0| 67.0| 100.0| 39.0|  79.0|   4.0|  21.0|   0.0| 9.0|\n",
      "|  0.0|  85.0| 38.0| 100.0|  81.0|  88.0|  87.0|  50.0|  84.0| 12.0|  58.0|  0.0|  53.0|  22.0| 100.0|  24.0| 7.0|\n",
      "| 35.0|  76.0| 57.0| 100.0| 100.0|  92.0|  68.0|  66.0|  81.0| 38.0|  82.0|  9.0|  32.0|   0.0|   0.0|  17.0| 3.0|\n",
      "| 50.0|  84.0| 66.0| 100.0|  75.0|  75.0|  51.0|  51.0| 100.0| 42.0|  97.0| 13.0|  49.0|   0.0|   0.0|   7.0| 3.0|\n",
      "| 99.0|  80.0| 63.0| 100.0|  25.0|  76.0|  79.0|  68.0| 100.0| 62.0|  97.0| 23.0|  54.0|   0.0|   0.0|  16.0| 9.0|\n",
      "| 24.0|  66.0| 43.0| 100.0|  59.0|  65.0|  34.0|  28.0|   0.0|  1.0|  16.0| 11.0|  58.0|   0.0| 100.0|   1.0| 2.0|\n",
      "|  0.0|  73.0| 19.0|  99.0|  72.0| 100.0|  70.0|  73.0|  32.0| 48.0|   5.0| 18.0|  46.0|   0.0| 100.0|   0.0| 2.0|\n",
      "| 12.0|  77.0| 20.0|  62.0|  78.0|  40.0|  50.0|   0.0|   1.0| 17.0|   0.0| 64.0|  23.0|  98.0| 100.0| 100.0| 5.0|\n",
      "+-----+------+-----+------+------+------+------+------+------+-----+------+-----+------+------+------+------+----+\n",
      "only showing top 20 rows"
     ]
    }
   ],
   "source": [
    "ss.sql(\"select * from parquet.`/pendat`\").show()"
   ]
  },
  {
   "cell_type": "code",
   "execution_count": null,
   "metadata": {},
   "outputs": [],
   "source": []
  }
 ],
 "metadata": {
  "kernelspec": {
   "display_name": "PySpark",
   "language": "",
   "name": "pysparkkernel"
  },
  "language_info": {
   "codemirror_mode": {
    "name": "python",
    "version": 2
   },
   "mimetype": "text/x-python",
   "name": "pyspark",
   "pygments_lexer": "python2"
  }
 },
 "nbformat": 4,
 "nbformat_minor": 2
}

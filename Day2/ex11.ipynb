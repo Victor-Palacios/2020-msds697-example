{
 "cells": [
  {
   "cell_type": "code",
   "execution_count": 1,
   "metadata": {},
   "outputs": [],
   "source": [
    "from pyspark import SparkContext\n",
    "from pyspark.sql import SparkSession\n",
    "from pyspark.sql.types import *\n",
    "\n",
    "def IntegerSafe(value): # In case there are non-integer type to be converted.\n",
    "    try:\n",
    "        return int(value)\n",
    "    except ValueError:\n",
    "        return None\n",
    "\n",
    "sc = SparkContext.getOrCreate()\n",
    "ss = SparkSession.builder.getOrCreate()\n",
    "\n",
    "\n",
    "business = sc.textFile(\"../Data/SF_business/filtered_registered_business_sf.csv\")\\\n",
    "             .map(lambda x : x.split(','))\\\n",
    "             .map(lambda x : (IntegerSafe(x[0]), x[1], x[2], x[3], x[4]))\n",
    "\n",
    "supervisor = sc.textFile(\"../Data/SF_business/supervisor_sf.csv\")\\\n",
    "               .map(lambda x : x.split(\",\"))\\\n",
    "               .map(lambda x: (IntegerSafe(x[0]), IntegerSafe(x[1])))\n",
    "              \n",
    "\n",
    "business_schema = StructType([ StructField(\"zip\", IntegerType(), True),\n",
    "                               StructField(\"name\", StringType(), False),\n",
    "                               StructField(\"street\", StringType(), True),\n",
    "                               StructField(\"city\", StringType(), True),\n",
    "                               StructField(\"state\", StringType(), True)\n",
    "                            ])\n",
    "\n",
    "supervisor_schema = StructType([ StructField(\"zip\", IntegerType(), False),\n",
    "                    StructField(\"id\", IntegerType(), False)\n",
    "                    ])\n",
    "\n",
    "business_df = ss.createDataFrame(business, business_schema)\n",
    "supervisor_df = ss.createDataFrame(supervisor, supervisor_schema)"
   ]
  },
  {
   "cell_type": "markdown",
   "metadata": {},
   "source": [
    "## Save Supservisor DataFrame as “Supervisor” and Business DataFrame as “Business”."
   ]
  },
  {
   "cell_type": "code",
   "execution_count": 2,
   "metadata": {},
   "outputs": [],
   "source": [
    "business_df.write.saveAsTable('Business')"
   ]
  },
  {
   "cell_type": "code",
   "execution_count": 3,
   "metadata": {},
   "outputs": [],
   "source": [
    "supervisor_df.write.saveAsTable('Supervisor')"
   ]
  },
  {
   "cell_type": "markdown",
   "metadata": {},
   "source": [
    "## And find supervisor id for \"Holbert Deneice M\""
   ]
  },
  {
   "cell_type": "code",
   "execution_count": 4,
   "metadata": {},
   "outputs": [
    {
     "name": "stdout",
     "output_type": "stream",
     "text": [
      "+-----+--------------------+--------------------+-------------+-----+\n",
      "|  zip|                name|              street|         city|state|\n",
      "+-----+--------------------+--------------------+-------------+-----+\n",
      "|94105| Barney & Barney Llc|1 Market St Steua...|San Francisco|   CA|\n",
      "|94109|   Holbert Deneice M|  1426 California St|San Francisco|   CA|\n",
      "| 6002|      Integralis Inc|310 West Newberry Rd|   Bloomfield|   CT|\n",
      "|95603|       Mcadams Pat G|  10279 Mt Vernon Rd|       Auburn|   CA|\n",
      "|95685|Young Gregory You...|14508 Shake Ridge Rd| Sutter+creek|   CA|\n",
      "+-----+--------------------+--------------------+-------------+-----+\n",
      "only showing top 5 rows\n",
      "\n"
     ]
    }
   ],
   "source": [
    "ss.sql(\"select * from Business\").show(5)"
   ]
  },
  {
   "cell_type": "code",
   "execution_count": 5,
   "metadata": {},
   "outputs": [
    {
     "name": "stdout",
     "output_type": "stream",
     "text": [
      "+-----+---+\n",
      "|  zip| id|\n",
      "+-----+---+\n",
      "|94115|  5|\n",
      "|94116|  7|\n",
      "|94116|  4|\n",
      "|94117|  1|\n",
      "|94117|  7|\n",
      "+-----+---+\n",
      "only showing top 5 rows\n",
      "\n"
     ]
    }
   ],
   "source": [
    "ss.sql(\"select * from Supervisor\").show(5)"
   ]
  },
  {
   "cell_type": "code",
   "execution_count": 6,
   "metadata": {},
   "outputs": [
    {
     "name": "stdout",
     "output_type": "stream",
     "text": [
      "+---+\n",
      "| id|\n",
      "+---+\n",
      "|  5|\n",
      "|  3|\n",
      "|  6|\n",
      "|  2|\n",
      "+---+\n",
      "\n"
     ]
    }
   ],
   "source": [
    "ss.sql(\"select id from Business JOIN Supervisor ON Business.zip = Supervisor.zip where name = 'Holbert Deneice M'\")\\\n",
    "  .show()"
   ]
  },
  {
   "cell_type": "code",
   "execution_count": null,
   "metadata": {},
   "outputs": [],
   "source": []
  }
 ],
 "metadata": {
  "kernelspec": {
   "display_name": "Python 3",
   "language": "python",
   "name": "python3"
  },
  "language_info": {
   "codemirror_mode": {
    "name": "ipython",
    "version": 3
   },
   "file_extension": ".py",
   "mimetype": "text/x-python",
   "name": "python",
   "nbconvert_exporter": "python",
   "pygments_lexer": "ipython3",
   "version": "3.7.4"
  },
  "varInspector": {
   "cols": {
    "lenName": 16,
    "lenType": 16,
    "lenVar": 40
   },
   "kernels_config": {
    "python": {
     "delete_cmd_postfix": "",
     "delete_cmd_prefix": "del ",
     "library": "var_list.py",
     "varRefreshCmd": "print(var_dic_list())"
    },
    "r": {
     "delete_cmd_postfix": ") ",
     "delete_cmd_prefix": "rm(",
     "library": "var_list.r",
     "varRefreshCmd": "cat(var_dic_list()) "
    }
   },
   "types_to_exclude": [
    "module",
    "function",
    "builtin_function_or_method",
    "instance",
    "_Feature"
   ],
   "window_display": false
  }
 },
 "nbformat": 4,
 "nbformat_minor": 2
}

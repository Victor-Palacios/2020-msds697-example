{
 "cells": [
  {
   "cell_type": "code",
   "execution_count": 1,
   "metadata": {},
   "outputs": [],
   "source": [
    "from pyspark import SparkContext\n",
    "from pyspark.sql import SparkSession\n",
    "from pyspark.sql.types import *\n",
    "\n",
    "def IntegerSafe(value): # In case there are non-integer type to be converted.\n",
    "    try:\n",
    "        return int(value)\n",
    "    except ValueError:\n",
    "        return None\n",
    "\n",
    "sc = SparkContext.getOrCreate()\n",
    "ss = SparkSession.builder.getOrCreate()\n",
    "\n",
    "\n",
    "business = sc.textFile(\"../Data/SF_business/filtered_registered_business_sf.csv\")\\\n",
    "             .map(lambda x : x.split(','))\\\n",
    "             .map(lambda x : (IntegerSafe(x[0]), x[1], x[2], x[3], x[4]))\n",
    "\n",
    "supervisor = sc.textFile(\"../Data/SF_business/supervisor_sf.csv\")\\\n",
    "               .map(lambda x : x.split(\",\"))\\\n",
    "               .map(lambda x: (IntegerSafe(x[0]), IntegerSafe(x[1])))\n",
    "              \n",
    "\n",
    "business_schema = StructType([ StructField(\"zip\", IntegerType(), True),\n",
    "                               StructField(\"name\", StringType(), False),\n",
    "                               StructField(\"street\", StringType(), True),\n",
    "                               StructField(\"city\", StringType(), True),\n",
    "                               StructField(\"state\", StringType(), True)\n",
    "                            ])\n",
    "\n",
    "supervisor_schema = StructType([ StructField(\"zip\", IntegerType(), False),\n",
    "                    StructField(\"id\", IntegerType(), False)\n",
    "                    ])\n",
    "\n",
    "business_df = ss.createDataFrame(business, business_schema)\n",
    "supervisor_df = ss.createDataFrame(supervisor, supervisor_schema)"
   ]
  },
  {
   "cell_type": "markdown",
   "metadata": {},
   "source": [
    "## inner joins"
   ]
  },
  {
   "cell_type": "code",
   "execution_count": 2,
   "metadata": {},
   "outputs": [
    {
     "name": "stdout",
     "output_type": "stream",
     "text": [
      "+-----+--------------------+--------------------+-------------+-----+---+\n",
      "|  zip|                name|              street|         city|state| id|\n",
      "+-----+--------------------+--------------------+-------------+-----+---+\n",
      "|94109|Stephens Institut...|1835-49 Van Ness Ave|San Francisco|   CA|  2|\n",
      "|94109|Stephens Institut...|1835-49 Van Ness Ave|San Francisco|   CA|  6|\n",
      "|94109|Stephens Institut...|1835-49 Van Ness Ave|San Francisco|   CA|  3|\n",
      "|94109|Stephens Institut...|1835-49 Van Ness Ave|San Francisco|   CA|  5|\n",
      "|94109|Stephens Institut...|        1055 Pine St|San Francisco|   CA|  2|\n",
      "+-----+--------------------+--------------------+-------------+-----+---+\n",
      "only showing top 5 rows\n",
      "\n"
     ]
    }
   ],
   "source": [
    "business_df.join(supervisor_df, 'zip').show(5)"
   ]
  },
  {
   "cell_type": "code",
   "execution_count": 3,
   "metadata": {},
   "outputs": [
    {
     "name": "stdout",
     "output_type": "stream",
     "text": [
      "+-----+--------------------+--------------------+-------------+-----+-----+---+\n",
      "|  zip|                name|              street|         city|state|  zip| id|\n",
      "+-----+--------------------+--------------------+-------------+-----+-----+---+\n",
      "|94109|Stephens Institut...|1835-49 Van Ness Ave|San Francisco|   CA|94109|  2|\n",
      "|94109|Stephens Institut...|1835-49 Van Ness Ave|San Francisco|   CA|94109|  6|\n",
      "|94109|Stephens Institut...|1835-49 Van Ness Ave|San Francisco|   CA|94109|  3|\n",
      "|94109|Stephens Institut...|1835-49 Van Ness Ave|San Francisco|   CA|94109|  5|\n",
      "|94109|Stephens Institut...|        1055 Pine St|San Francisco|   CA|94109|  2|\n",
      "+-----+--------------------+--------------------+-------------+-----+-----+---+\n",
      "only showing top 5 rows\n",
      "\n"
     ]
    }
   ],
   "source": [
    "business_df.join(supervisor_df, business_df['zip'] == supervisor_df['zip']).show(5)"
   ]
  },
  {
   "cell_type": "code",
   "execution_count": 4,
   "metadata": {},
   "outputs": [
    {
     "name": "stdout",
     "output_type": "stream",
     "text": [
      "+-----+--------------------+--------------------+-------------+-----+---+\n",
      "|  zip|                name|              street|         city|state| id|\n",
      "+-----+--------------------+--------------------+-------------+-----+---+\n",
      "|94109|Stephens Institut...|1835-49 Van Ness Ave|San Francisco|   CA|  2|\n",
      "|94109|Stephens Institut...|1835-49 Van Ness Ave|San Francisco|   CA|  6|\n",
      "|94109|Stephens Institut...|1835-49 Van Ness Ave|San Francisco|   CA|  3|\n",
      "|94109|Stephens Institut...|1835-49 Van Ness Ave|San Francisco|   CA|  5|\n",
      "|94109|Stephens Institut...|        1055 Pine St|San Francisco|   CA|  2|\n",
      "+-----+--------------------+--------------------+-------------+-----+---+\n",
      "only showing top 5 rows\n",
      "\n"
     ]
    }
   ],
   "source": [
    "business_df.join(supervisor_df, 'zip', 'inner').show(5)"
   ]
  },
  {
   "cell_type": "markdown",
   "metadata": {},
   "source": [
    "## outer joins"
   ]
  },
  {
   "cell_type": "code",
   "execution_count": 5,
   "metadata": {},
   "outputs": [
    {
     "name": "stdout",
     "output_type": "stream",
     "text": [
      "+-----+--------------------+-------------------+-----------+-----+----+\n",
      "|  zip|                name|             street|       city|state|  id|\n",
      "+-----+--------------------+-------------------+-----------+-----+----+\n",
      "| 2142|        Trecler Alan|        1 Rogers St|  Cambridge|   MA|null|\n",
      "| 2142|Aegerion Pharmace...|        101 Main St|  Cambridge|   MA|null|\n",
      "| 8086|         Aramsco Inc| 1480 Grandview Ave|  Thorofare|   NJ|null|\n",
      "|18051|Five Thousand For...|       8020 Mine St|Fogelsville|   PA|null|\n",
      "|21220|Social Solutions ...|425 Williams Ct 100|  Baltimore|   MD|null|\n",
      "+-----+--------------------+-------------------+-----------+-----+----+\n",
      "only showing top 5 rows\n",
      "\n"
     ]
    }
   ],
   "source": [
    "business_df.join(supervisor_df, 'zip', 'left_outer').show(5)"
   ]
  },
  {
   "cell_type": "code",
   "execution_count": 6,
   "metadata": {},
   "outputs": [
    {
     "name": "stdout",
     "output_type": "stream",
     "text": [
      "+-----+--------------------+--------------------+-------------+-----+---+\n",
      "|  zip|                name|              street|         city|state| id|\n",
      "+-----+--------------------+--------------------+-------------+-----+---+\n",
      "|94109|Stephens Institut...|1835-49 Van Ness Ave|San Francisco|   CA|  2|\n",
      "|94109|Stephens Institut...|        1055 Pine St|San Francisco|   CA|  2|\n",
      "|94109|     Alioto F Co Inc|    440 Jefferson St|San Francisco|   CA|  2|\n",
      "|94109|     Haines Robert D|   786-792 Sutter St|San Francisco|   CA|  2|\n",
      "|94109|Avis Rent A Car S...|         675 Post St|San Francisco|   CA|  2|\n",
      "+-----+--------------------+--------------------+-------------+-----+---+\n",
      "only showing top 5 rows\n",
      "\n"
     ]
    }
   ],
   "source": [
    "business_df.join(supervisor_df, 'zip', 'right_outer').show(5)"
   ]
  },
  {
   "cell_type": "markdown",
   "metadata": {},
   "source": [
    "## leftsemi join"
   ]
  },
  {
   "cell_type": "code",
   "execution_count": 7,
   "metadata": {},
   "outputs": [
    {
     "name": "stdout",
     "output_type": "stream",
     "text": [
      "+-----+--------------------+--------------------+-------------+-----+\n",
      "|  zip|                name|              street|         city|state|\n",
      "+-----+--------------------+--------------------+-------------+-----+\n",
      "|94109|Stephens Institut...|1835-49 Van Ness Ave|San Francisco|   CA|\n",
      "|94109|Stephens Institut...|        1055 Pine St|San Francisco|   CA|\n",
      "|94109|     Alioto F Co Inc|    440 Jefferson St|San Francisco|   CA|\n",
      "|94109|     Haines Robert D|   786-792 Sutter St|San Francisco|   CA|\n",
      "|94109|Avis Rent A Car S...|         675 Post St|San Francisco|   CA|\n",
      "+-----+--------------------+--------------------+-------------+-----+\n",
      "only showing top 5 rows\n",
      "\n"
     ]
    }
   ],
   "source": [
    "business_df.join(supervisor_df, 'zip', 'leftsemi').show(5)"
   ]
  },
  {
   "cell_type": "code",
   "execution_count": null,
   "metadata": {},
   "outputs": [],
   "source": []
  }
 ],
 "metadata": {
  "kernelspec": {
   "display_name": "Python 3",
   "language": "python",
   "name": "python3"
  },
  "language_info": {
   "codemirror_mode": {
    "name": "ipython",
    "version": 3
   },
   "file_extension": ".py",
   "mimetype": "text/x-python",
   "name": "python",
   "nbconvert_exporter": "python",
   "pygments_lexer": "ipython3",
   "version": "3.7.4"
  },
  "varInspector": {
   "cols": {
    "lenName": 16,
    "lenType": 16,
    "lenVar": 40
   },
   "kernels_config": {
    "python": {
     "delete_cmd_postfix": "",
     "delete_cmd_prefix": "del ",
     "library": "var_list.py",
     "varRefreshCmd": "print(var_dic_list())"
    },
    "r": {
     "delete_cmd_postfix": ") ",
     "delete_cmd_prefix": "rm(",
     "library": "var_list.r",
     "varRefreshCmd": "cat(var_dic_list()) "
    }
   },
   "types_to_exclude": [
    "module",
    "function",
    "builtin_function_or_method",
    "instance",
    "_Feature"
   ],
   "window_display": false
  }
 },
 "nbformat": 4,
 "nbformat_minor": 2
}

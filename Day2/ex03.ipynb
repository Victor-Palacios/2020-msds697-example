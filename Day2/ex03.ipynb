{
 "cells": [
  {
   "cell_type": "code",
   "execution_count": 1,
   "metadata": {},
   "outputs": [],
   "source": [
    "from pyspark import SparkContext\n",
    "from pyspark.sql import SparkSession\n",
    "from pyspark.sql.types import *\n",
    "\n",
    "def IntegerSafe(value): # In case there are non-integer type to be converted.\n",
    "    try:\n",
    "        return int(value)\n",
    "    except ValueError:\n",
    "        return None\n",
    "\n",
    "sc = SparkContext.getOrCreate()\n",
    "ss = SparkSession.builder.getOrCreate()\n",
    "\n",
    "\n",
    "business = sc.textFile(\"../Data/SF_business/filtered_registered_business_sf.csv\")\\\n",
    "             .map(lambda x : x.split(','))\\\n",
    "             .map(lambda x : (IntegerSafe(x[0]), x[1], x[2], x[3], x[4]))\n",
    "              \n",
    "\n",
    "schema = StructType([ StructField(\"zip\", IntegerType(), True),\n",
    "                      StructField(\"name\", StringType(), False),\n",
    "                      StructField(\"street\", StringType(), True),\n",
    "                      StructField(\"city\", StringType(), True),\n",
    "                      StructField(\"state\", StringType(), True)\n",
    "                    ])\n",
    "\n",
    "business_df = ss.createDataFrame(business, schema)"
   ]
  },
  {
   "cell_type": "markdown",
   "metadata": {},
   "source": [
    "## .select() - Choose name and zip"
   ]
  },
  {
   "cell_type": "code",
   "execution_count": 2,
   "metadata": {},
   "outputs": [
    {
     "name": "stdout",
     "output_type": "stream",
     "text": [
      "+--------------------+-----+\n",
      "|                name|  zip|\n",
      "+--------------------+-----+\n",
      "|   Tournahu George L|94123|\n",
      "|Stephens Institut...|94124|\n",
      "|Stephens Institut...|94105|\n",
      "|Stephens Institut...|94108|\n",
      "|Stephens Institut...|94107|\n",
      "+--------------------+-----+\n",
      "only showing top 5 rows\n",
      "\n"
     ]
    }
   ],
   "source": [
    "business_df.select(\"name\", \"zip\").show(5)"
   ]
  },
  {
   "cell_type": "code",
   "execution_count": 3,
   "metadata": {},
   "outputs": [
    {
     "name": "stdout",
     "output_type": "stream",
     "text": [
      "+--------------------+-----+\n",
      "|                name|  zip|\n",
      "+--------------------+-----+\n",
      "|   Tournahu George L|94123|\n",
      "|Stephens Institut...|94124|\n",
      "|Stephens Institut...|94105|\n",
      "|Stephens Institut...|94108|\n",
      "|Stephens Institut...|94107|\n",
      "+--------------------+-----+\n",
      "only showing top 5 rows\n",
      "\n"
     ]
    }
   ],
   "source": [
    "business_df.select(business_df[\"name\"], business_df[\"zip\"]).show(5)"
   ]
  },
  {
   "cell_type": "markdown",
   "metadata": {},
   "source": [
    "#### does the original dataframe change?"
   ]
  },
  {
   "cell_type": "code",
   "execution_count": 4,
   "metadata": {},
   "outputs": [
    {
     "name": "stdout",
     "output_type": "stream",
     "text": [
      "+-----+--------------------+--------------------+-------------+-----+\n",
      "|  zip|                name|              street|         city|state|\n",
      "+-----+--------------------+--------------------+-------------+-----+\n",
      "|94123|   Tournahu George L|   3301 Broderick St|San Francisco|   CA|\n",
      "|94124|Stephens Institut...|    2225 Jerrold Ave|San Francisco|   CA|\n",
      "|94105|Stephens Institut...|180 New Montgomer...|San Francisco|   CA|\n",
      "|94108|Stephens Institut...|       540 Powell St|San Francisco|   CA|\n",
      "|94107|Stephens Institut...|     460 Townsend St|San Francisco|   CA|\n",
      "|94109|Stephens Institut...|1835-49 Van Ness Ave|San Francisco|   CA|\n",
      "|94102|Stephens Institut...|       620 Sutter St|San Francisco|   CA|\n",
      "|94102|Stephens Institut...|       655 Sutter St|San Francisco|   CA|\n",
      "|94109|Stephens Institut...|        1055 Pine St|San Francisco|   CA|\n",
      "|94107|Stephens Institut...|    121 Wisconsin St|San Francisco|   CA|\n",
      "+-----+--------------------+--------------------+-------------+-----+\n",
      "only showing top 10 rows\n",
      "\n"
     ]
    }
   ],
   "source": [
    "business_df.show(10)"
   ]
  },
  {
   "cell_type": "markdown",
   "metadata": {},
   "source": [
    "## .drop() - select except for state and city"
   ]
  },
  {
   "cell_type": "code",
   "execution_count": 5,
   "metadata": {},
   "outputs": [
    {
     "name": "stdout",
     "output_type": "stream",
     "text": [
      "+-----+--------------------+--------------------+-------------+\n",
      "|  zip|                name|              street|         city|\n",
      "+-----+--------------------+--------------------+-------------+\n",
      "|94123|   Tournahu George L|   3301 Broderick St|San Francisco|\n",
      "|94124|Stephens Institut...|    2225 Jerrold Ave|San Francisco|\n",
      "|94105|Stephens Institut...|180 New Montgomer...|San Francisco|\n",
      "|94108|Stephens Institut...|       540 Powell St|San Francisco|\n",
      "|94107|Stephens Institut...|     460 Townsend St|San Francisco|\n",
      "+-----+--------------------+--------------------+-------------+\n",
      "only showing top 5 rows\n",
      "\n"
     ]
    }
   ],
   "source": [
    "business_df.drop(\"state\").show(5)"
   ]
  },
  {
   "cell_type": "code",
   "execution_count": 6,
   "metadata": {},
   "outputs": [
    {
     "name": "stdout",
     "output_type": "stream",
     "text": [
      "+-----+--------------------+--------------------+\n",
      "|  zip|                name|              street|\n",
      "+-----+--------------------+--------------------+\n",
      "|94123|   Tournahu George L|   3301 Broderick St|\n",
      "|94124|Stephens Institut...|    2225 Jerrold Ave|\n",
      "|94105|Stephens Institut...|180 New Montgomer...|\n",
      "|94108|Stephens Institut...|       540 Powell St|\n",
      "|94107|Stephens Institut...|     460 Townsend St|\n",
      "+-----+--------------------+--------------------+\n",
      "only showing top 5 rows\n",
      "\n"
     ]
    }
   ],
   "source": [
    "business_df.drop(\"state\",\"city\").show(5)"
   ]
  },
  {
   "cell_type": "markdown",
   "metadata": {},
   "source": [
    "## .filter() and .where() - Filter where city is San Francisco but state is not CA"
   ]
  },
  {
   "cell_type": "code",
   "execution_count": 7,
   "metadata": {},
   "outputs": [
    {
     "name": "stdout",
     "output_type": "stream",
     "text": [
      "+-----+--------------------+-----------------+-------------+-----+\n",
      "|  zip|                name|           street|         city|state|\n",
      "+-----+--------------------+-----------------+-------------+-----+\n",
      "|94123|   Tournahu George L|3301 Broderick St|San Francisco|   CA|\n",
      "|94123|        Amore Robert|    1958 Union St|San Francisco|   CA|\n",
      "|94123|Aunt Anns Corp He...|    2722 Gough St|San Francisco|   CA|\n",
      "|94123|Barbagelata & Co Inc| 2381 Chestnut St|San Francisco|   CA|\n",
      "|94123|Boas Internationa...|  2098 Lombard St|San Francisco|   CA|\n",
      "+-----+--------------------+-----------------+-------------+-----+\n",
      "only showing top 5 rows\n",
      "\n"
     ]
    }
   ],
   "source": [
    "business_df.filter(\"zip == 94123\").show(5)"
   ]
  },
  {
   "cell_type": "code",
   "execution_count": 8,
   "metadata": {},
   "outputs": [
    {
     "name": "stdout",
     "output_type": "stream",
     "text": [
      "+-----+--------------------+--------------------+-------------+-----+\n",
      "|  zip|                name|              street|         city|state|\n",
      "+-----+--------------------+--------------------+-------------+-----+\n",
      "|94134|         Kugay Faruk|301 Executive Par...|San Francisco|     |\n",
      "|94114|     Crystal Way Inc|      2335 Market St|San Francisco|     |\n",
      "|94109|          Protopopov|        1190 Pine St|San Francisco|   CO|\n",
      "|94134|301 Rolph Street ...|       65 Leland Ave|San Francisco|     |\n",
      "|94127|Nu Greek Wine Co Inc|     225 Moncada Way|San Francisco|   SC|\n",
      "|94124|Calvary Hill Soci...|   141 Industrial St|San Francisco|     |\n",
      "|94118|       Leung Clifton|         320 6th Ave|San Francisco|     |\n",
      "|94109| Chun Jimmy & Shuk Y|  1529 Sacramento St|San Francisco|     |\n",
      "|94109| Chun Jimmy & Shuk Y|  1354 Sacramento St|San Francisco|     |\n",
      "|94118|        Leung Olivia|         320 6th Ave|San Francisco|     |\n",
      "+-----+--------------------+--------------------+-------------+-----+\n",
      "only showing top 10 rows\n",
      "\n"
     ]
    }
   ],
   "source": [
    "business_df.where(\"city == 'San Francisco' and state != 'CA'\").show(10)"
   ]
  },
  {
   "cell_type": "markdown",
   "metadata": {},
   "source": [
    "## .withColumnRenamed(existing_col_name, new_col_name)  - Change zip to zip code"
   ]
  },
  {
   "cell_type": "code",
   "execution_count": 9,
   "metadata": {},
   "outputs": [
    {
     "name": "stdout",
     "output_type": "stream",
     "text": [
      "+--------+--------------------+--------------------+-------------+-----+\n",
      "|zip code|                name|              street|         city|state|\n",
      "+--------+--------------------+--------------------+-------------+-----+\n",
      "|   94123|   Tournahu George L|   3301 Broderick St|San Francisco|   CA|\n",
      "|   94124|Stephens Institut...|    2225 Jerrold Ave|San Francisco|   CA|\n",
      "|   94105|Stephens Institut...|180 New Montgomer...|San Francisco|   CA|\n",
      "|   94108|Stephens Institut...|       540 Powell St|San Francisco|   CA|\n",
      "|   94107|Stephens Institut...|     460 Townsend St|San Francisco|   CA|\n",
      "+--------+--------------------+--------------------+-------------+-----+\n",
      "only showing top 5 rows\n",
      "\n"
     ]
    }
   ],
   "source": [
    "business_df.withColumnRenamed('zip','zip code').show(5)"
   ]
  },
  {
   "cell_type": "markdown",
   "metadata": {},
   "source": [
    "## .withColumn(columnName, columnExpression)  - Add a odd_zip column to see whether zip is an odd number"
   ]
  },
  {
   "cell_type": "code",
   "execution_count": 10,
   "metadata": {},
   "outputs": [
    {
     "name": "stdout",
     "output_type": "stream",
     "text": [
      "+-----+--------------------+--------------------+-------------+-----+-------+\n",
      "|  zip|                name|              street|         city|state|odd_zip|\n",
      "+-----+--------------------+--------------------+-------------+-----+-------+\n",
      "|94123|   Tournahu George L|   3301 Broderick St|San Francisco|   CA|      1|\n",
      "|94124|Stephens Institut...|    2225 Jerrold Ave|San Francisco|   CA|      0|\n",
      "|94105|Stephens Institut...|180 New Montgomer...|San Francisco|   CA|      1|\n",
      "|94108|Stephens Institut...|       540 Powell St|San Francisco|   CA|      0|\n",
      "|94107|Stephens Institut...|     460 Townsend St|San Francisco|   CA|      1|\n",
      "+-----+--------------------+--------------------+-------------+-----+-------+\n",
      "only showing top 5 rows\n",
      "\n"
     ]
    }
   ],
   "source": [
    "business_df.withColumn('odd_zip', business_df['zip'] % 2 ).show(5)"
   ]
  },
  {
   "cell_type": "code",
   "execution_count": 11,
   "metadata": {},
   "outputs": [
    {
     "name": "stdout",
     "output_type": "stream",
     "text": [
      "+-----+--------------------+--------------------+-------------+-----+-------+\n",
      "|  zip|                name|              street|         city|state|odd_zip|\n",
      "+-----+--------------------+--------------------+-------------+-----+-------+\n",
      "|94123|   Tournahu George L|   3301 Broderick St|San Francisco|   CA|   true|\n",
      "|94124|Stephens Institut...|    2225 Jerrold Ave|San Francisco|   CA|  false|\n",
      "|94105|Stephens Institut...|180 New Montgomer...|San Francisco|   CA|   true|\n",
      "|94108|Stephens Institut...|       540 Powell St|San Francisco|   CA|  false|\n",
      "|94107|Stephens Institut...|     460 Townsend St|San Francisco|   CA|   true|\n",
      "+-----+--------------------+--------------------+-------------+-----+-------+\n",
      "only showing top 5 rows\n",
      "\n"
     ]
    }
   ],
   "source": [
    "business_df.withColumn('odd_zip', business_df['zip'] % 2 == True ).show(5)"
   ]
  },
  {
   "cell_type": "markdown",
   "metadata": {},
   "source": [
    "## .orderBy(columns, ascending = True) - Order it by name in ascending/descending order"
   ]
  },
  {
   "cell_type": "code",
   "execution_count": 12,
   "metadata": {},
   "outputs": [
    {
     "name": "stdout",
     "output_type": "stream",
     "text": [
      "+-----+-----------------+------+--------------------+-----------------+\n",
      "|  zip|             name|street|                city|            state|\n",
      "+-----+-----------------+------+--------------------+-----------------+\n",
      "|94103|               \"1|     2|3 Express Moving ...|31 Duboce Ave 31a|\n",
      "|94105|      \"1-2-3 Deli| Inc.\"|      123 Mission St|    San Francisco|\n",
      "|94105|\"1055 Pine Street|  Llc\"|79 New Montgomery St|    San Francisco|\n",
      "|94105|\"1069 Pine Street|  Llc\"|79 New Montgomery St|    San Francisco|\n",
      "|94109|\"1080 Bush Street|  Llc\"|        1080 Bush St|    San Francisco|\n",
      "+-----+-----------------+------+--------------------+-----------------+\n",
      "only showing top 5 rows\n",
      "\n"
     ]
    }
   ],
   "source": [
    "business_df.orderBy(\"name\").show(5)"
   ]
  },
  {
   "cell_type": "code",
   "execution_count": 13,
   "metadata": {},
   "outputs": [
    {
     "name": "stdout",
     "output_type": "stream",
     "text": [
      "+-----+--------------------+--------------------+-------------+-----+\n",
      "|  zip|                name|              street|         city|state|\n",
      "+-----+--------------------+--------------------+-------------+-----+\n",
      "|94521|     Zzr Enterprises|5520 Pennsylvania...|      Concord|   CA|\n",
      "|94121|Zzgor Entertainme...|     447 22nd Ave #3|San+francisco|   CA|\n",
      "|94104|         Zyzzyva Inc|      57 Post St 604|San Francisco|   CA|\n",
      "|94118|         Zyzzyva Inc|       44 Almaden Ct|San Francisco|   CA|\n",
      "|53226|          Zywave Inc|10700 W Research ...|    Milwaukee|   WI|\n",
      "+-----+--------------------+--------------------+-------------+-----+\n",
      "only showing top 5 rows\n",
      "\n"
     ]
    }
   ],
   "source": [
    "business_df.orderBy(\"name\", ascending = False).show(5)"
   ]
  },
  {
   "cell_type": "code",
   "execution_count": 14,
   "metadata": {
    "scrolled": true
   },
   "outputs": [
    {
     "name": "stdout",
     "output_type": "stream",
     "text": [
      "+-----+-----------------+------+--------------------+-----------------+\n",
      "|  zip|             name|street|                city|            state|\n",
      "+-----+-----------------+------+--------------------+-----------------+\n",
      "|94103|               \"1|     2|3 Express Moving ...|31 Duboce Ave 31a|\n",
      "|94105|      \"1-2-3 Deli| Inc.\"|      123 Mission St|    San Francisco|\n",
      "|94105|\"1055 Pine Street|  Llc\"|79 New Montgomery St|    San Francisco|\n",
      "|94105|\"1069 Pine Street|  Llc\"|79 New Montgomery St|    San Francisco|\n",
      "|94109|\"1080 Bush Street|  Llc\"|        1080 Bush St|    San Francisco|\n",
      "+-----+-----------------+------+--------------------+-----------------+\n",
      "only showing top 5 rows\n",
      "\n"
     ]
    }
   ],
   "source": [
    "business_df.sort(\"name\").show(5)"
   ]
  },
  {
   "cell_type": "code",
   "execution_count": null,
   "metadata": {},
   "outputs": [],
   "source": []
  },
  {
   "cell_type": "code",
   "execution_count": null,
   "metadata": {},
   "outputs": [],
   "source": []
  }
 ],
 "metadata": {
  "kernelspec": {
   "display_name": "Python 3",
   "language": "python",
   "name": "python3"
  },
  "language_info": {
   "codemirror_mode": {
    "name": "ipython",
    "version": 3
   },
   "file_extension": ".py",
   "mimetype": "text/x-python",
   "name": "python",
   "nbconvert_exporter": "python",
   "pygments_lexer": "ipython3",
   "version": "3.7.4"
  },
  "varInspector": {
   "cols": {
    "lenName": 16,
    "lenType": 16,
    "lenVar": 40
   },
   "kernels_config": {
    "python": {
     "delete_cmd_postfix": "",
     "delete_cmd_prefix": "del ",
     "library": "var_list.py",
     "varRefreshCmd": "print(var_dic_list())"
    },
    "r": {
     "delete_cmd_postfix": ") ",
     "delete_cmd_prefix": "rm(",
     "library": "var_list.r",
     "varRefreshCmd": "cat(var_dic_list()) "
    }
   },
   "types_to_exclude": [
    "module",
    "function",
    "builtin_function_or_method",
    "instance",
    "_Feature"
   ],
   "window_display": false
  }
 },
 "nbformat": 4,
 "nbformat_minor": 2
}

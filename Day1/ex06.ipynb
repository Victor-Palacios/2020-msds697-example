{
 "cells": [
  {
   "cell_type": "code",
   "execution_count": 3,
   "metadata": {},
   "outputs": [],
   "source": [
    "from pyspark import SparkContext\n",
    "sc = SparkContext.getOrCreate()"
   ]
  },
  {
   "cell_type": "code",
   "execution_count": 4,
   "metadata": {},
   "outputs": [],
   "source": [
    "nums = sc.parallelize([(1,2),(3,4),(5,1),(2,3),(1,5)])"
   ]
  },
  {
   "cell_type": "code",
   "execution_count": 5,
   "metadata": {},
   "outputs": [
    {
     "data": {
      "text/plain": [
       "[[], [(1, 2), (5, 1), (1, 5)], [(2, 3)], [(3, 4)]]"
      ]
     },
     "execution_count": 5,
     "metadata": {},
     "output_type": "execute_result"
    }
   ],
   "source": [
    "nums.partitionBy(4).glom().collect()"
   ]
  },
  {
   "cell_type": "markdown",
   "metadata": {},
   "source": [
    "## Create a custom practitioner using hash value of the key\n",
    "\n"
   ]
  },
  {
   "cell_type": "code",
   "execution_count": 17,
   "metadata": {},
   "outputs": [
    {
     "name": "stdout",
     "output_type": "stream",
     "text": [
      "hash:[[], [(1, 2), (5, 1), (1, 5)], [(2, 3)], [(3, 4)]]\n",
      "hash:[[], [(1, 2), (5, 1), (1, 5)], [(2, 3)], [(3, 4)]]\n"
     ]
    }
   ],
   "source": [
    "def hash_partitioner(key):\n",
    "    return hash(key)\n",
    "\n",
    "\n",
    "print(\"hash:\" + str(nums.partitionBy(4).glom().collect()))\n",
    "print(\"hash:\" + str(nums.partitionBy(4, hash_partitioner).glom().collect()))"
   ]
  },
  {
   "cell_type": "markdown",
   "metadata": {},
   "source": [
    "## Create a custom practitioner using hash value of the key + 10\n",
    "\n"
   ]
  },
  {
   "cell_type": "code",
   "execution_count": 18,
   "metadata": {},
   "outputs": [
    {
     "name": "stdout",
     "output_type": "stream",
     "text": [
      "custom_hash_variation_partitioner : [[(2, 3)], [(3, 4)], [], [(1, 2), (5, 1), (1, 5)]]\n"
     ]
    }
   ],
   "source": [
    "def custom_hash_variation_partitioner(key):\n",
    "    return hash(key + 10)\n",
    "\n",
    "\n",
    "print(\"custom_hash_variation_partitioner : \" \\\n",
    "      + str(nums.partitionBy(4, custom_hash_variation_partitioner).glom().collect()))"
   ]
  },
  {
   "cell_type": "markdown",
   "metadata": {},
   "source": [
    "## Create a custom practitioner based on  whether the key is an odd or even number\n"
   ]
  },
  {
   "cell_type": "code",
   "execution_count": 14,
   "metadata": {},
   "outputs": [
    {
     "name": "stdout",
     "output_type": "stream",
     "text": [
      "custom_odd_even_partitioner : [[(2, 3)], [(1, 2), (3, 4), (5, 1), (1, 5)]]\n"
     ]
    }
   ],
   "source": [
    "def custom_odd_even_partitioner(key):\n",
    "    return key%2\n",
    "\n",
    "\n",
    "print(\"custom_odd_even_partitioner : \" \\\n",
    "      + str(nums.partitionBy(2, custom_odd_even_partitioner).glom().collect()))"
   ]
  },
  {
   "cell_type": "markdown",
   "metadata": {},
   "source": [
    "## Create a custom practitioner using range of the keys\n",
    "\n",
    "range partitioner implementaiton : https://fossies.org/linux/spark/python/pyspark/rdd.py"
   ]
  },
  {
   "cell_type": "code",
   "execution_count": 21,
   "metadata": {},
   "outputs": [
    {
     "name": "stdout",
     "output_type": "stream",
     "text": [
      "custom_ragne_partitioner : [[(1, 2), (1, 5)], [(3, 4), (2, 3)], [(5, 1)]]\n"
     ]
    }
   ],
   "source": [
    "def custom_ragne_partitioner(key):\n",
    "    if (key < 2):\n",
    "        return 0\n",
    "    elif(key < 4):\n",
    "        return 1\n",
    "    else:\n",
    "        return 2\n",
    "\n",
    "\n",
    "print(\"custom_ragne_partitioner : \" \\\n",
    "      + str(nums.partitionBy(3, custom_ragne_partitioner).glom().collect()))"
   ]
  },
  {
   "cell_type": "code",
   "execution_count": null,
   "metadata": {},
   "outputs": [],
   "source": []
  }
 ],
 "metadata": {
  "anaconda-cloud": {},
  "kernelspec": {
   "display_name": "Python 3",
   "language": "python",
   "name": "python3"
  },
  "language_info": {
   "codemirror_mode": {
    "name": "ipython",
    "version": 3
   },
   "file_extension": ".py",
   "mimetype": "text/x-python",
   "name": "python",
   "nbconvert_exporter": "python",
   "pygments_lexer": "ipython3",
   "version": "3.7.4"
  },
  "varInspector": {
   "cols": {
    "lenName": 16,
    "lenType": 16,
    "lenVar": 40
   },
   "kernels_config": {
    "python": {
     "delete_cmd_postfix": "",
     "delete_cmd_prefix": "del ",
     "library": "var_list.py",
     "varRefreshCmd": "print(var_dic_list())"
    },
    "r": {
     "delete_cmd_postfix": ") ",
     "delete_cmd_prefix": "rm(",
     "library": "var_list.r",
     "varRefreshCmd": "cat(var_dic_list()) "
    }
   },
   "types_to_exclude": [
    "module",
    "function",
    "builtin_function_or_method",
    "instance",
    "_Feature"
   ],
   "window_display": false
  }
 },
 "nbformat": 4,
 "nbformat_minor": 2
}
